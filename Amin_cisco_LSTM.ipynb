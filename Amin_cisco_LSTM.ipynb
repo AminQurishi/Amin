{
  "nbformat": 4,
  "nbformat_minor": 0,
  "metadata": {
    "colab": {
      "name": "Amin_cisco-LSTM.ipynb",
      "provenance": [],
      "collapsed_sections": []
    },
    "kernelspec": {
      "name": "python3",
      "display_name": "Python 3"
    },
    "language_info": {
      "name": "python"
    }
  },
  "cells": [
    {
      "cell_type": "code",
      "metadata": {
        "id": "cnaFNMPV4VbF"
      },
      "source": [
        "# Importing the libraries\n",
        "import math\n",
        "import numpy as np\n",
        "import pandas as pd\n",
        "from sklearn.preprocessing import MinMaxScaler\n",
        "from keras.models import Sequential\n",
        "from keras.layers import Dense, LSTM, Dropout\n",
        "import matplotlib.pyplot as plt\n",
        "plt.style.use('seaborn')"
      ],
      "execution_count": null,
      "outputs": []
    },
    {
      "cell_type": "code",
      "metadata": {
        "colab": {
          "resources": {
            "http://localhost:8080/nbextensions/google.colab/files.js": {
              "data": "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",
              "ok": true,
              "headers": [
                [
                  "content-type",
                  "application/javascript"
                ]
              ],
              "status": 200,
              "status_text": ""
            }
          },
          "base_uri": "https://localhost:8080/",
          "height": 73
        },
        "id": "J8LuBdkr4c6t",
        "outputId": "890debe6-f609-4487-8cbf-0ab5a66a6559"
      },
      "source": [
        "from google.colab import files\n",
        "uploaded = files.upload()"
      ],
      "execution_count": null,
      "outputs": [
        {
          "output_type": "display_data",
          "data": {
            "text/html": [
              "\n",
              "     <input type=\"file\" id=\"files-97ab1351-4a03-4340-bea4-130db4aa6612\" name=\"files[]\" multiple disabled\n",
              "        style=\"border:none\" />\n",
              "     <output id=\"result-97ab1351-4a03-4340-bea4-130db4aa6612\">\n",
              "      Upload widget is only available when the cell has been executed in the\n",
              "      current browser session. Please rerun this cell to enable.\n",
              "      </output>\n",
              "      <script src=\"/nbextensions/google.colab/files.js\"></script> "
            ],
            "text/plain": [
              "<IPython.core.display.HTML object>"
            ]
          },
          "metadata": {
            "tags": []
          }
        },
        {
          "output_type": "stream",
          "text": [
            "Saving cisco_news.csv to cisco_news.csv\n"
          ],
          "name": "stdout"
        }
      ]
    },
    {
      "cell_type": "code",
      "metadata": {
        "colab": {
          "base_uri": "https://localhost:8080/",
          "height": 203
        },
        "id": "hbQwuKn247i0",
        "outputId": "ec20042f-58af-4cd0-de96-734cdc2d74ac"
      },
      "source": [
        "#getting the data\n",
        "df1 = pd.read_csv('cisco_news.csv', parse_dates=['Date'])\n",
        "df1.head()"
      ],
      "execution_count": null,
      "outputs": [
        {
          "output_type": "execute_result",
          "data": {
            "text/html": [
              "<div>\n",
              "<style scoped>\n",
              "    .dataframe tbody tr th:only-of-type {\n",
              "        vertical-align: middle;\n",
              "    }\n",
              "\n",
              "    .dataframe tbody tr th {\n",
              "        vertical-align: top;\n",
              "    }\n",
              "\n",
              "    .dataframe thead th {\n",
              "        text-align: right;\n",
              "    }\n",
              "</style>\n",
              "<table border=\"1\" class=\"dataframe\">\n",
              "  <thead>\n",
              "    <tr style=\"text-align: right;\">\n",
              "      <th></th>\n",
              "      <th>Date</th>\n",
              "      <th>News</th>\n",
              "    </tr>\n",
              "  </thead>\n",
              "  <tbody>\n",
              "    <tr>\n",
              "      <th>0</th>\n",
              "      <td>2021-06-18</td>\n",
              "      <td>Wells Fargo updates on its best-ideas 'Signatu...</td>\n",
              "    </tr>\n",
              "    <tr>\n",
              "      <th>1</th>\n",
              "      <td>2021-05-21</td>\n",
              "      <td>Apple App Store profits look &amp;quot;disproporti...</td>\n",
              "    </tr>\n",
              "    <tr>\n",
              "      <th>2</th>\n",
              "      <td>2021-05-07</td>\n",
              "      <td>The Epic Battle Over Apple&amp;quot;s App Store 3 ...</td>\n",
              "    </tr>\n",
              "    <tr>\n",
              "      <th>3</th>\n",
              "      <td>2021-05-04</td>\n",
              "      <td>Nasdaq ends sharply lower in tech sell-off Glo...</td>\n",
              "    </tr>\n",
              "    <tr>\n",
              "      <th>4</th>\n",
              "      <td>2021-04-23</td>\n",
              "      <td>Tesla, Procter &amp; Gamble, Apple: Stocks That De...</td>\n",
              "    </tr>\n",
              "  </tbody>\n",
              "</table>\n",
              "</div>"
            ],
            "text/plain": [
              "        Date                                               News\n",
              "0 2021-06-18  Wells Fargo updates on its best-ideas 'Signatu...\n",
              "1 2021-05-21  Apple App Store profits look &quot;disproporti...\n",
              "2 2021-05-07  The Epic Battle Over Apple&quot;s App Store 3 ...\n",
              "3 2021-05-04  Nasdaq ends sharply lower in tech sell-off Glo...\n",
              "4 2021-04-23  Tesla, Procter & Gamble, Apple: Stocks That De..."
            ]
          },
          "metadata": {
            "tags": []
          },
          "execution_count": 5
        }
      ]
    },
    {
      "cell_type": "code",
      "metadata": {
        "colab": {
          "base_uri": "https://localhost:8080/"
        },
        "id": "VVdjNhto5bbs",
        "outputId": "54f11d33-036f-4698-dffb-0181d7082227"
      },
      "source": [
        "df1.isnull().sum()"
      ],
      "execution_count": null,
      "outputs": [
        {
          "output_type": "execute_result",
          "data": {
            "text/plain": [
              "Date    45\n",
              "News    45\n",
              "dtype: int64"
            ]
          },
          "metadata": {
            "tags": []
          },
          "execution_count": 6
        }
      ]
    },
    {
      "cell_type": "code",
      "metadata": {
        "colab": {
          "base_uri": "https://localhost:8080/",
          "height": 417
        },
        "id": "z9QxSryV8ZH0",
        "outputId": "c521e7a4-ca80-4254-b009-3ddf2aca3494"
      },
      "source": [
        "df1.dropna()"
      ],
      "execution_count": null,
      "outputs": [
        {
          "output_type": "execute_result",
          "data": {
            "text/html": [
              "<div>\n",
              "<style scoped>\n",
              "    .dataframe tbody tr th:only-of-type {\n",
              "        vertical-align: middle;\n",
              "    }\n",
              "\n",
              "    .dataframe tbody tr th {\n",
              "        vertical-align: top;\n",
              "    }\n",
              "\n",
              "    .dataframe thead th {\n",
              "        text-align: right;\n",
              "    }\n",
              "</style>\n",
              "<table border=\"1\" class=\"dataframe\">\n",
              "  <thead>\n",
              "    <tr style=\"text-align: right;\">\n",
              "      <th></th>\n",
              "      <th>Date</th>\n",
              "      <th>News</th>\n",
              "    </tr>\n",
              "  </thead>\n",
              "  <tbody>\n",
              "    <tr>\n",
              "      <th>0</th>\n",
              "      <td>2021-06-18</td>\n",
              "      <td>Wells Fargo updates on its best-ideas 'Signatu...</td>\n",
              "    </tr>\n",
              "    <tr>\n",
              "      <th>1</th>\n",
              "      <td>2021-05-21</td>\n",
              "      <td>Apple App Store profits look &amp;quot;disproporti...</td>\n",
              "    </tr>\n",
              "    <tr>\n",
              "      <th>2</th>\n",
              "      <td>2021-05-07</td>\n",
              "      <td>The Epic Battle Over Apple&amp;quot;s App Store 3 ...</td>\n",
              "    </tr>\n",
              "    <tr>\n",
              "      <th>3</th>\n",
              "      <td>2021-05-04</td>\n",
              "      <td>Nasdaq ends sharply lower in tech sell-off Glo...</td>\n",
              "    </tr>\n",
              "    <tr>\n",
              "      <th>4</th>\n",
              "      <td>2021-04-23</td>\n",
              "      <td>Tesla, Procter &amp; Gamble, Apple: Stocks That De...</td>\n",
              "    </tr>\n",
              "    <tr>\n",
              "      <th>...</th>\n",
              "      <td>...</td>\n",
              "      <td>...</td>\n",
              "    </tr>\n",
              "    <tr>\n",
              "      <th>215</th>\n",
              "      <td>2016-05-09</td>\n",
              "      <td>Apple has known for Years that 99% of Malware ...</td>\n",
              "    </tr>\n",
              "    <tr>\n",
              "      <th>216</th>\n",
              "      <td>2016-04-18</td>\n",
              "      <td>Apples Worldwide Developers Conference Kicks O...</td>\n",
              "    </tr>\n",
              "    <tr>\n",
              "      <th>217</th>\n",
              "      <td>2016-04-06</td>\n",
              "      <td>Apple Inc. (AAPL) Shares Sold by Princeton Cap...</td>\n",
              "    </tr>\n",
              "    <tr>\n",
              "      <th>218</th>\n",
              "      <td>2016-03-04</td>\n",
              "      <td>Stock Update (NASDAQ:AAPL): Ad-Blocking Jumps ...</td>\n",
              "    </tr>\n",
              "    <tr>\n",
              "      <th>219</th>\n",
              "      <td>2016-03-01</td>\n",
              "      <td>Investors Buy Apple Inc. (AAPL) on Weakness Ea...</td>\n",
              "    </tr>\n",
              "  </tbody>\n",
              "</table>\n",
              "<p>220 rows × 2 columns</p>\n",
              "</div>"
            ],
            "text/plain": [
              "          Date                                               News\n",
              "0   2021-06-18  Wells Fargo updates on its best-ideas 'Signatu...\n",
              "1   2021-05-21  Apple App Store profits look &quot;disproporti...\n",
              "2   2021-05-07  The Epic Battle Over Apple&quot;s App Store 3 ...\n",
              "3   2021-05-04  Nasdaq ends sharply lower in tech sell-off Glo...\n",
              "4   2021-04-23  Tesla, Procter & Gamble, Apple: Stocks That De...\n",
              "..         ...                                                ...\n",
              "215 2016-05-09  Apple has known for Years that 99% of Malware ...\n",
              "216 2016-04-18  Apples Worldwide Developers Conference Kicks O...\n",
              "217 2016-04-06  Apple Inc. (AAPL) Shares Sold by Princeton Cap...\n",
              "218 2016-03-04  Stock Update (NASDAQ:AAPL): Ad-Blocking Jumps ...\n",
              "219 2016-03-01  Investors Buy Apple Inc. (AAPL) on Weakness Ea...\n",
              "\n",
              "[220 rows x 2 columns]"
            ]
          },
          "metadata": {
            "tags": []
          },
          "execution_count": 7
        }
      ]
    },
    {
      "cell_type": "code",
      "metadata": {
        "colab": {
          "base_uri": "https://localhost:8080/"
        },
        "id": "okwpPVo18_hH",
        "outputId": "18b465d8-4536-472f-97d8-05ff69f1ae4d"
      },
      "source": [
        "df1.dropna().isnull().sum()"
      ],
      "execution_count": null,
      "outputs": [
        {
          "output_type": "execute_result",
          "data": {
            "text/plain": [
              "Date    0\n",
              "News    0\n",
              "dtype: int64"
            ]
          },
          "metadata": {
            "tags": []
          },
          "execution_count": 8
        }
      ]
    },
    {
      "cell_type": "code",
      "metadata": {
        "id": "VvaM_mWK_ZtC"
      },
      "source": [
        "df1.sort_index(inplace=True)"
      ],
      "execution_count": null,
      "outputs": []
    },
    {
      "cell_type": "code",
      "metadata": {
        "colab": {
          "base_uri": "https://localhost:8080/",
          "height": 203
        },
        "id": "9m3J05Zo_9jJ",
        "outputId": "992ddf4f-b6f4-43e0-9161-0bfdb8138232"
      },
      "source": [
        "df1.head()"
      ],
      "execution_count": null,
      "outputs": [
        {
          "output_type": "execute_result",
          "data": {
            "text/html": [
              "<div>\n",
              "<style scoped>\n",
              "    .dataframe tbody tr th:only-of-type {\n",
              "        vertical-align: middle;\n",
              "    }\n",
              "\n",
              "    .dataframe tbody tr th {\n",
              "        vertical-align: top;\n",
              "    }\n",
              "\n",
              "    .dataframe thead th {\n",
              "        text-align: right;\n",
              "    }\n",
              "</style>\n",
              "<table border=\"1\" class=\"dataframe\">\n",
              "  <thead>\n",
              "    <tr style=\"text-align: right;\">\n",
              "      <th></th>\n",
              "      <th>Date</th>\n",
              "      <th>News</th>\n",
              "    </tr>\n",
              "  </thead>\n",
              "  <tbody>\n",
              "    <tr>\n",
              "      <th>0</th>\n",
              "      <td>2021-06-18</td>\n",
              "      <td>Wells Fargo updates on its best-ideas 'Signatu...</td>\n",
              "    </tr>\n",
              "    <tr>\n",
              "      <th>1</th>\n",
              "      <td>2021-05-21</td>\n",
              "      <td>Apple App Store profits look &amp;quot;disproporti...</td>\n",
              "    </tr>\n",
              "    <tr>\n",
              "      <th>2</th>\n",
              "      <td>2021-05-07</td>\n",
              "      <td>The Epic Battle Over Apple&amp;quot;s App Store 3 ...</td>\n",
              "    </tr>\n",
              "    <tr>\n",
              "      <th>3</th>\n",
              "      <td>2021-05-04</td>\n",
              "      <td>Nasdaq ends sharply lower in tech sell-off Glo...</td>\n",
              "    </tr>\n",
              "    <tr>\n",
              "      <th>4</th>\n",
              "      <td>2021-04-23</td>\n",
              "      <td>Tesla, Procter &amp; Gamble, Apple: Stocks That De...</td>\n",
              "    </tr>\n",
              "  </tbody>\n",
              "</table>\n",
              "</div>"
            ],
            "text/plain": [
              "        Date                                               News\n",
              "0 2021-06-18  Wells Fargo updates on its best-ideas 'Signatu...\n",
              "1 2021-05-21  Apple App Store profits look &quot;disproporti...\n",
              "2 2021-05-07  The Epic Battle Over Apple&quot;s App Store 3 ...\n",
              "3 2021-05-04  Nasdaq ends sharply lower in tech sell-off Glo...\n",
              "4 2021-04-23  Tesla, Procter & Gamble, Apple: Stocks That De..."
            ]
          },
          "metadata": {
            "tags": []
          },
          "execution_count": 10
        }
      ]
    },
    {
      "cell_type": "code",
      "metadata": {
        "colab": {
          "resources": {
            "http://localhost:8080/nbextensions/google.colab/files.js": {
              "data": "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",
              "ok": true,
              "headers": [
                [
                  "content-type",
                  "application/javascript"
                ]
              ],
              "status": 200,
              "status_text": ""
            }
          },
          "base_uri": "https://localhost:8080/",
          "height": 73
        },
        "id": "LlMEqfkRABTX",
        "outputId": "acf72296-8285-4347-88c6-46f8320b9351"
      },
      "source": [
        "from google.colab import files\n",
        "uploaded = files.upload()"
      ],
      "execution_count": null,
      "outputs": [
        {
          "output_type": "display_data",
          "data": {
            "text/html": [
              "\n",
              "     <input type=\"file\" id=\"files-91100d03-6c52-436a-8e90-835698ba6590\" name=\"files[]\" multiple disabled\n",
              "        style=\"border:none\" />\n",
              "     <output id=\"result-91100d03-6c52-436a-8e90-835698ba6590\">\n",
              "      Upload widget is only available when the cell has been executed in the\n",
              "      current browser session. Please rerun this cell to enable.\n",
              "      </output>\n",
              "      <script src=\"/nbextensions/google.colab/files.js\"></script> "
            ],
            "text/plain": [
              "<IPython.core.display.HTML object>"
            ]
          },
          "metadata": {
            "tags": []
          }
        },
        {
          "output_type": "stream",
          "text": [
            "Saving cisco.csv.csv to cisco.csv.csv\n"
          ],
          "name": "stdout"
        }
      ]
    },
    {
      "cell_type": "code",
      "metadata": {
        "colab": {
          "base_uri": "https://localhost:8080/",
          "height": 203
        },
        "id": "-q_HZQKPALV8",
        "outputId": "1d6cb822-3adb-401e-d2b8-30a3223cbf17"
      },
      "source": [
        "#getting the data\n",
        "df2 = pd.read_csv('cisco.csv.csv', parse_dates=['Date'])\n",
        "df2.head()"
      ],
      "execution_count": null,
      "outputs": [
        {
          "output_type": "execute_result",
          "data": {
            "text/html": [
              "<div>\n",
              "<style scoped>\n",
              "    .dataframe tbody tr th:only-of-type {\n",
              "        vertical-align: middle;\n",
              "    }\n",
              "\n",
              "    .dataframe tbody tr th {\n",
              "        vertical-align: top;\n",
              "    }\n",
              "\n",
              "    .dataframe thead th {\n",
              "        text-align: right;\n",
              "    }\n",
              "</style>\n",
              "<table border=\"1\" class=\"dataframe\">\n",
              "  <thead>\n",
              "    <tr style=\"text-align: right;\">\n",
              "      <th></th>\n",
              "      <th>Date</th>\n",
              "      <th>Close/Last</th>\n",
              "      <th>Volume</th>\n",
              "      <th>Open</th>\n",
              "      <th>High</th>\n",
              "      <th>Low</th>\n",
              "    </tr>\n",
              "  </thead>\n",
              "  <tbody>\n",
              "    <tr>\n",
              "      <th>0</th>\n",
              "      <td>2021-07-02</td>\n",
              "      <td>$53.54</td>\n",
              "      <td>15068260</td>\n",
              "      <td>$53.19</td>\n",
              "      <td>$53.62</td>\n",
              "      <td>$52.84</td>\n",
              "    </tr>\n",
              "    <tr>\n",
              "      <th>1</th>\n",
              "      <td>2021-07-01</td>\n",
              "      <td>$53.44</td>\n",
              "      <td>15074800</td>\n",
              "      <td>$53.05</td>\n",
              "      <td>$53.60</td>\n",
              "      <td>$53</td>\n",
              "    </tr>\n",
              "    <tr>\n",
              "      <th>2</th>\n",
              "      <td>2021-06-30</td>\n",
              "      <td>$53</td>\n",
              "      <td>15826640</td>\n",
              "      <td>$52.95</td>\n",
              "      <td>$53.07</td>\n",
              "      <td>$52.62</td>\n",
              "    </tr>\n",
              "    <tr>\n",
              "      <th>3</th>\n",
              "      <td>2021-06-29</td>\n",
              "      <td>$52.91</td>\n",
              "      <td>10926110</td>\n",
              "      <td>$52.89</td>\n",
              "      <td>$53.19</td>\n",
              "      <td>$52.77</td>\n",
              "    </tr>\n",
              "    <tr>\n",
              "      <th>4</th>\n",
              "      <td>2021-06-28</td>\n",
              "      <td>$52.96</td>\n",
              "      <td>14008660</td>\n",
              "      <td>$53.16</td>\n",
              "      <td>$53.29</td>\n",
              "      <td>$52.92</td>\n",
              "    </tr>\n",
              "  </tbody>\n",
              "</table>\n",
              "</div>"
            ],
            "text/plain": [
              "        Date Close/Last    Volume     Open     High      Low\n",
              "0 2021-07-02    $53.54   15068260  $53.19   $53.62   $52.84 \n",
              "1 2021-07-01    $53.44   15074800  $53.05   $53.60      $53 \n",
              "2 2021-06-30       $53   15826640  $52.95   $53.07   $52.62 \n",
              "3 2021-06-29    $52.91   10926110  $52.89   $53.19   $52.77 \n",
              "4 2021-06-28    $52.96   14008660  $53.16   $53.29   $52.92 "
            ]
          },
          "metadata": {
            "tags": []
          },
          "execution_count": 12
        }
      ]
    },
    {
      "cell_type": "code",
      "metadata": {
        "id": "2g2Fyh3HBPqf"
      },
      "source": [
        "#rename the column\n",
        "df2.rename(columns = {'Close/Last' : 'Close'}, inplace = True)"
      ],
      "execution_count": null,
      "outputs": []
    },
    {
      "cell_type": "code",
      "metadata": {
        "id": "-Uh9ZOeSAcxX"
      },
      "source": [
        "df2.sort_values('Date', inplace=True)"
      ],
      "execution_count": null,
      "outputs": []
    },
    {
      "cell_type": "code",
      "metadata": {
        "colab": {
          "base_uri": "https://localhost:8080/",
          "height": 417
        },
        "id": "Q-aRFqIyAiQD",
        "outputId": "1a8c26fe-59df-4aa5-8791-c8e4b025fd76"
      },
      "source": [
        "df2.reset_index()"
      ],
      "execution_count": null,
      "outputs": [
        {
          "output_type": "execute_result",
          "data": {
            "text/html": [
              "<div>\n",
              "<style scoped>\n",
              "    .dataframe tbody tr th:only-of-type {\n",
              "        vertical-align: middle;\n",
              "    }\n",
              "\n",
              "    .dataframe tbody tr th {\n",
              "        vertical-align: top;\n",
              "    }\n",
              "\n",
              "    .dataframe thead th {\n",
              "        text-align: right;\n",
              "    }\n",
              "</style>\n",
              "<table border=\"1\" class=\"dataframe\">\n",
              "  <thead>\n",
              "    <tr style=\"text-align: right;\">\n",
              "      <th></th>\n",
              "      <th>index</th>\n",
              "      <th>Date</th>\n",
              "      <th>Close</th>\n",
              "      <th>Volume</th>\n",
              "      <th>Open</th>\n",
              "      <th>High</th>\n",
              "      <th>Low</th>\n",
              "    </tr>\n",
              "  </thead>\n",
              "  <tbody>\n",
              "    <tr>\n",
              "      <th>0</th>\n",
              "      <td>1257</td>\n",
              "      <td>2016-07-06</td>\n",
              "      <td>$28.72</td>\n",
              "      <td>24843840</td>\n",
              "      <td>$28.45</td>\n",
              "      <td>$28.77</td>\n",
              "      <td>$28.17</td>\n",
              "    </tr>\n",
              "    <tr>\n",
              "      <th>1</th>\n",
              "      <td>1256</td>\n",
              "      <td>2016-07-07</td>\n",
              "      <td>$28.74</td>\n",
              "      <td>17395210</td>\n",
              "      <td>$28.72</td>\n",
              "      <td>$28.90</td>\n",
              "      <td>$28.61</td>\n",
              "    </tr>\n",
              "    <tr>\n",
              "      <th>2</th>\n",
              "      <td>1255</td>\n",
              "      <td>2016-07-08</td>\n",
              "      <td>$29.26</td>\n",
              "      <td>24646250</td>\n",
              "      <td>$28.91</td>\n",
              "      <td>$29.28</td>\n",
              "      <td>$28.88</td>\n",
              "    </tr>\n",
              "    <tr>\n",
              "      <th>3</th>\n",
              "      <td>1254</td>\n",
              "      <td>2016-07-11</td>\n",
              "      <td>$29.43</td>\n",
              "      <td>21688010</td>\n",
              "      <td>$29.34</td>\n",
              "      <td>$29.70</td>\n",
              "      <td>$29.26</td>\n",
              "    </tr>\n",
              "    <tr>\n",
              "      <th>4</th>\n",
              "      <td>1253</td>\n",
              "      <td>2016-07-12</td>\n",
              "      <td>$29.61</td>\n",
              "      <td>22137610</td>\n",
              "      <td>$29.72</td>\n",
              "      <td>$29.74</td>\n",
              "      <td>$29.52</td>\n",
              "    </tr>\n",
              "    <tr>\n",
              "      <th>...</th>\n",
              "      <td>...</td>\n",
              "      <td>...</td>\n",
              "      <td>...</td>\n",
              "      <td>...</td>\n",
              "      <td>...</td>\n",
              "      <td>...</td>\n",
              "      <td>...</td>\n",
              "    </tr>\n",
              "    <tr>\n",
              "      <th>1253</th>\n",
              "      <td>4</td>\n",
              "      <td>2021-06-28</td>\n",
              "      <td>$52.96</td>\n",
              "      <td>14008660</td>\n",
              "      <td>$53.16</td>\n",
              "      <td>$53.29</td>\n",
              "      <td>$52.92</td>\n",
              "    </tr>\n",
              "    <tr>\n",
              "      <th>1254</th>\n",
              "      <td>3</td>\n",
              "      <td>2021-06-29</td>\n",
              "      <td>$52.91</td>\n",
              "      <td>10926110</td>\n",
              "      <td>$52.89</td>\n",
              "      <td>$53.19</td>\n",
              "      <td>$52.77</td>\n",
              "    </tr>\n",
              "    <tr>\n",
              "      <th>1255</th>\n",
              "      <td>2</td>\n",
              "      <td>2021-06-30</td>\n",
              "      <td>$53</td>\n",
              "      <td>15826640</td>\n",
              "      <td>$52.95</td>\n",
              "      <td>$53.07</td>\n",
              "      <td>$52.62</td>\n",
              "    </tr>\n",
              "    <tr>\n",
              "      <th>1256</th>\n",
              "      <td>1</td>\n",
              "      <td>2021-07-01</td>\n",
              "      <td>$53.44</td>\n",
              "      <td>15074800</td>\n",
              "      <td>$53.05</td>\n",
              "      <td>$53.60</td>\n",
              "      <td>$53</td>\n",
              "    </tr>\n",
              "    <tr>\n",
              "      <th>1257</th>\n",
              "      <td>0</td>\n",
              "      <td>2021-07-02</td>\n",
              "      <td>$53.54</td>\n",
              "      <td>15068260</td>\n",
              "      <td>$53.19</td>\n",
              "      <td>$53.62</td>\n",
              "      <td>$52.84</td>\n",
              "    </tr>\n",
              "  </tbody>\n",
              "</table>\n",
              "<p>1258 rows × 7 columns</p>\n",
              "</div>"
            ],
            "text/plain": [
              "      index       Date    Close    Volume     Open     High      Low\n",
              "0      1257 2016-07-06  $28.72   24843840  $28.45   $28.77   $28.17 \n",
              "1      1256 2016-07-07  $28.74   17395210  $28.72   $28.90   $28.61 \n",
              "2      1255 2016-07-08  $29.26   24646250  $28.91   $29.28   $28.88 \n",
              "3      1254 2016-07-11  $29.43   21688010  $29.34   $29.70   $29.26 \n",
              "4      1253 2016-07-12  $29.61   22137610  $29.72   $29.74   $29.52 \n",
              "...     ...        ...      ...       ...      ...      ...      ...\n",
              "1253      4 2021-06-28  $52.96   14008660  $53.16   $53.29   $52.92 \n",
              "1254      3 2021-06-29  $52.91   10926110  $52.89   $53.19   $52.77 \n",
              "1255      2 2021-06-30     $53   15826640  $52.95   $53.07   $52.62 \n",
              "1256      1 2021-07-01  $53.44   15074800  $53.05   $53.60      $53 \n",
              "1257      0 2021-07-02  $53.54   15068260  $53.19   $53.62   $52.84 \n",
              "\n",
              "[1258 rows x 7 columns]"
            ]
          },
          "metadata": {
            "tags": []
          },
          "execution_count": 15
        }
      ]
    },
    {
      "cell_type": "code",
      "metadata": {
        "id": "jlz8BnhTEOOM"
      },
      "source": [
        "df3 = pd.merge(df1,df2, how='inner', on=['Date'])"
      ],
      "execution_count": null,
      "outputs": []
    },
    {
      "cell_type": "code",
      "metadata": {
        "colab": {
          "base_uri": "https://localhost:8080/",
          "height": 203
        },
        "id": "ksNj6ZlbEWxQ",
        "outputId": "bf14e9e7-eb87-436d-c85f-d127c6babc03"
      },
      "source": [
        "df3.head()"
      ],
      "execution_count": null,
      "outputs": [
        {
          "output_type": "execute_result",
          "data": {
            "text/html": [
              "<div>\n",
              "<style scoped>\n",
              "    .dataframe tbody tr th:only-of-type {\n",
              "        vertical-align: middle;\n",
              "    }\n",
              "\n",
              "    .dataframe tbody tr th {\n",
              "        vertical-align: top;\n",
              "    }\n",
              "\n",
              "    .dataframe thead th {\n",
              "        text-align: right;\n",
              "    }\n",
              "</style>\n",
              "<table border=\"1\" class=\"dataframe\">\n",
              "  <thead>\n",
              "    <tr style=\"text-align: right;\">\n",
              "      <th></th>\n",
              "      <th>Date</th>\n",
              "      <th>News</th>\n",
              "      <th>Close</th>\n",
              "      <th>Volume</th>\n",
              "      <th>Open</th>\n",
              "      <th>High</th>\n",
              "      <th>Low</th>\n",
              "    </tr>\n",
              "  </thead>\n",
              "  <tbody>\n",
              "    <tr>\n",
              "      <th>0</th>\n",
              "      <td>2021-06-18</td>\n",
              "      <td>Wells Fargo updates on its best-ideas 'Signatu...</td>\n",
              "      <td>$52.07</td>\n",
              "      <td>35758260</td>\n",
              "      <td>$52.81</td>\n",
              "      <td>$52.84</td>\n",
              "      <td>$51.88</td>\n",
              "    </tr>\n",
              "    <tr>\n",
              "      <th>1</th>\n",
              "      <td>2021-05-21</td>\n",
              "      <td>Apple App Store profits look &amp;quot;disproporti...</td>\n",
              "      <td>$52.43</td>\n",
              "      <td>24468370</td>\n",
              "      <td>$52.77</td>\n",
              "      <td>$52.93</td>\n",
              "      <td>$52.24</td>\n",
              "    </tr>\n",
              "    <tr>\n",
              "      <th>2</th>\n",
              "      <td>2021-05-07</td>\n",
              "      <td>The Epic Battle Over Apple&amp;quot;s App Store 3 ...</td>\n",
              "      <td>$53.43</td>\n",
              "      <td>24146010</td>\n",
              "      <td>$52.48</td>\n",
              "      <td>$53.68</td>\n",
              "      <td>$52.22</td>\n",
              "    </tr>\n",
              "    <tr>\n",
              "      <th>3</th>\n",
              "      <td>2021-05-04</td>\n",
              "      <td>Nasdaq ends sharply lower in tech sell-off Glo...</td>\n",
              "      <td>$50.71</td>\n",
              "      <td>18164790</td>\n",
              "      <td>$51.11</td>\n",
              "      <td>$51.23</td>\n",
              "      <td>$50.30</td>\n",
              "    </tr>\n",
              "    <tr>\n",
              "      <th>4</th>\n",
              "      <td>2021-04-23</td>\n",
              "      <td>Tesla, Procter &amp; Gamble, Apple: Stocks That De...</td>\n",
              "      <td>$51.91</td>\n",
              "      <td>14017740</td>\n",
              "      <td>$51.50</td>\n",
              "      <td>$52.13</td>\n",
              "      <td>$51.18</td>\n",
              "    </tr>\n",
              "  </tbody>\n",
              "</table>\n",
              "</div>"
            ],
            "text/plain": [
              "        Date  ...      Low\n",
              "0 2021-06-18  ...  $51.88 \n",
              "1 2021-05-21  ...  $52.24 \n",
              "2 2021-05-07  ...  $52.22 \n",
              "3 2021-05-04  ...  $50.30 \n",
              "4 2021-04-23  ...  $51.18 \n",
              "\n",
              "[5 rows x 7 columns]"
            ]
          },
          "metadata": {
            "tags": []
          },
          "execution_count": 17
        }
      ]
    },
    {
      "cell_type": "code",
      "metadata": {
        "id": "y64J4O_AFRK2"
      },
      "source": [
        "# Removing $ sign and converting the string numeric values to float values\n",
        "df3[\"Close\"] = df3[\"Close\"].str.replace('$', '').astype(float)\n",
        "df3[\"Open\"] = df3[\"Open\"].str.replace('$', '').astype(float)\n",
        "df3[\"High\"] = df3[\"High\"].str.replace('$', '').astype(float)\n",
        "df3[\"Low\"] = df3[\"Low\"].str.replace('$', '').astype(float)"
      ],
      "execution_count": null,
      "outputs": []
    },
    {
      "cell_type": "code",
      "metadata": {
        "colab": {
          "base_uri": "https://localhost:8080/",
          "height": 203
        },
        "id": "F7IPaf97FlQJ",
        "outputId": "4a02154c-2ca9-4f1d-dac1-39545de9b002"
      },
      "source": [
        "df3.head()"
      ],
      "execution_count": null,
      "outputs": [
        {
          "output_type": "execute_result",
          "data": {
            "text/html": [
              "<div>\n",
              "<style scoped>\n",
              "    .dataframe tbody tr th:only-of-type {\n",
              "        vertical-align: middle;\n",
              "    }\n",
              "\n",
              "    .dataframe tbody tr th {\n",
              "        vertical-align: top;\n",
              "    }\n",
              "\n",
              "    .dataframe thead th {\n",
              "        text-align: right;\n",
              "    }\n",
              "</style>\n",
              "<table border=\"1\" class=\"dataframe\">\n",
              "  <thead>\n",
              "    <tr style=\"text-align: right;\">\n",
              "      <th></th>\n",
              "      <th>Date</th>\n",
              "      <th>News</th>\n",
              "      <th>Close</th>\n",
              "      <th>Volume</th>\n",
              "      <th>Open</th>\n",
              "      <th>High</th>\n",
              "      <th>Low</th>\n",
              "    </tr>\n",
              "  </thead>\n",
              "  <tbody>\n",
              "    <tr>\n",
              "      <th>0</th>\n",
              "      <td>2021-06-18</td>\n",
              "      <td>Wells Fargo updates on its best-ideas 'Signatu...</td>\n",
              "      <td>52.07</td>\n",
              "      <td>35758260</td>\n",
              "      <td>52.81</td>\n",
              "      <td>52.84</td>\n",
              "      <td>51.88</td>\n",
              "    </tr>\n",
              "    <tr>\n",
              "      <th>1</th>\n",
              "      <td>2021-05-21</td>\n",
              "      <td>Apple App Store profits look &amp;quot;disproporti...</td>\n",
              "      <td>52.43</td>\n",
              "      <td>24468370</td>\n",
              "      <td>52.77</td>\n",
              "      <td>52.93</td>\n",
              "      <td>52.24</td>\n",
              "    </tr>\n",
              "    <tr>\n",
              "      <th>2</th>\n",
              "      <td>2021-05-07</td>\n",
              "      <td>The Epic Battle Over Apple&amp;quot;s App Store 3 ...</td>\n",
              "      <td>53.43</td>\n",
              "      <td>24146010</td>\n",
              "      <td>52.48</td>\n",
              "      <td>53.68</td>\n",
              "      <td>52.22</td>\n",
              "    </tr>\n",
              "    <tr>\n",
              "      <th>3</th>\n",
              "      <td>2021-05-04</td>\n",
              "      <td>Nasdaq ends sharply lower in tech sell-off Glo...</td>\n",
              "      <td>50.71</td>\n",
              "      <td>18164790</td>\n",
              "      <td>51.11</td>\n",
              "      <td>51.23</td>\n",
              "      <td>50.30</td>\n",
              "    </tr>\n",
              "    <tr>\n",
              "      <th>4</th>\n",
              "      <td>2021-04-23</td>\n",
              "      <td>Tesla, Procter &amp; Gamble, Apple: Stocks That De...</td>\n",
              "      <td>51.91</td>\n",
              "      <td>14017740</td>\n",
              "      <td>51.50</td>\n",
              "      <td>52.13</td>\n",
              "      <td>51.18</td>\n",
              "    </tr>\n",
              "  </tbody>\n",
              "</table>\n",
              "</div>"
            ],
            "text/plain": [
              "        Date                                               News  ...   High    Low\n",
              "0 2021-06-18  Wells Fargo updates on its best-ideas 'Signatu...  ...  52.84  51.88\n",
              "1 2021-05-21  Apple App Store profits look &quot;disproporti...  ...  52.93  52.24\n",
              "2 2021-05-07  The Epic Battle Over Apple&quot;s App Store 3 ...  ...  53.68  52.22\n",
              "3 2021-05-04  Nasdaq ends sharply lower in tech sell-off Glo...  ...  51.23  50.30\n",
              "4 2021-04-23  Tesla, Procter & Gamble, Apple: Stocks That De...  ...  52.13  51.18\n",
              "\n",
              "[5 rows x 7 columns]"
            ]
          },
          "metadata": {
            "tags": []
          },
          "execution_count": 19
        }
      ]
    },
    {
      "cell_type": "code",
      "metadata": {
        "colab": {
          "base_uri": "https://localhost:8080/",
          "height": 234
        },
        "id": "lykQhuJVF_P4",
        "outputId": "25fe9c4e-8440-4a1a-8453-3d2f6e886be3"
      },
      "source": [
        "df3.set_index(\"Date\", inplace = True)\n",
        "df3.head()"
      ],
      "execution_count": null,
      "outputs": [
        {
          "output_type": "execute_result",
          "data": {
            "text/html": [
              "<div>\n",
              "<style scoped>\n",
              "    .dataframe tbody tr th:only-of-type {\n",
              "        vertical-align: middle;\n",
              "    }\n",
              "\n",
              "    .dataframe tbody tr th {\n",
              "        vertical-align: top;\n",
              "    }\n",
              "\n",
              "    .dataframe thead th {\n",
              "        text-align: right;\n",
              "    }\n",
              "</style>\n",
              "<table border=\"1\" class=\"dataframe\">\n",
              "  <thead>\n",
              "    <tr style=\"text-align: right;\">\n",
              "      <th></th>\n",
              "      <th>News</th>\n",
              "      <th>Close</th>\n",
              "      <th>Volume</th>\n",
              "      <th>Open</th>\n",
              "      <th>High</th>\n",
              "      <th>Low</th>\n",
              "    </tr>\n",
              "    <tr>\n",
              "      <th>Date</th>\n",
              "      <th></th>\n",
              "      <th></th>\n",
              "      <th></th>\n",
              "      <th></th>\n",
              "      <th></th>\n",
              "      <th></th>\n",
              "    </tr>\n",
              "  </thead>\n",
              "  <tbody>\n",
              "    <tr>\n",
              "      <th>2021-06-18</th>\n",
              "      <td>Wells Fargo updates on its best-ideas 'Signatu...</td>\n",
              "      <td>52.07</td>\n",
              "      <td>35758260</td>\n",
              "      <td>52.81</td>\n",
              "      <td>52.84</td>\n",
              "      <td>51.88</td>\n",
              "    </tr>\n",
              "    <tr>\n",
              "      <th>2021-05-21</th>\n",
              "      <td>Apple App Store profits look &amp;quot;disproporti...</td>\n",
              "      <td>52.43</td>\n",
              "      <td>24468370</td>\n",
              "      <td>52.77</td>\n",
              "      <td>52.93</td>\n",
              "      <td>52.24</td>\n",
              "    </tr>\n",
              "    <tr>\n",
              "      <th>2021-05-07</th>\n",
              "      <td>The Epic Battle Over Apple&amp;quot;s App Store 3 ...</td>\n",
              "      <td>53.43</td>\n",
              "      <td>24146010</td>\n",
              "      <td>52.48</td>\n",
              "      <td>53.68</td>\n",
              "      <td>52.22</td>\n",
              "    </tr>\n",
              "    <tr>\n",
              "      <th>2021-05-04</th>\n",
              "      <td>Nasdaq ends sharply lower in tech sell-off Glo...</td>\n",
              "      <td>50.71</td>\n",
              "      <td>18164790</td>\n",
              "      <td>51.11</td>\n",
              "      <td>51.23</td>\n",
              "      <td>50.30</td>\n",
              "    </tr>\n",
              "    <tr>\n",
              "      <th>2021-04-23</th>\n",
              "      <td>Tesla, Procter &amp; Gamble, Apple: Stocks That De...</td>\n",
              "      <td>51.91</td>\n",
              "      <td>14017740</td>\n",
              "      <td>51.50</td>\n",
              "      <td>52.13</td>\n",
              "      <td>51.18</td>\n",
              "    </tr>\n",
              "  </tbody>\n",
              "</table>\n",
              "</div>"
            ],
            "text/plain": [
              "                                                         News  ...    Low\n",
              "Date                                                           ...       \n",
              "2021-06-18  Wells Fargo updates on its best-ideas 'Signatu...  ...  51.88\n",
              "2021-05-21  Apple App Store profits look &quot;disproporti...  ...  52.24\n",
              "2021-05-07  The Epic Battle Over Apple&quot;s App Store 3 ...  ...  52.22\n",
              "2021-05-04  Nasdaq ends sharply lower in tech sell-off Glo...  ...  50.30\n",
              "2021-04-23  Tesla, Procter & Gamble, Apple: Stocks That De...  ...  51.18\n",
              "\n",
              "[5 rows x 6 columns]"
            ]
          },
          "metadata": {
            "tags": []
          },
          "execution_count": 20
        }
      ]
    },
    {
      "cell_type": "code",
      "metadata": {
        "colab": {
          "base_uri": "https://localhost:8080/",
          "height": 234
        },
        "id": "9hzRKA_sGJKZ",
        "outputId": "10536618-dc3b-4cf0-9ad8-0c05e74e54dc"
      },
      "source": [
        "df3.sort_index(ascending=True,inplace=True)\n",
        "df3.head()"
      ],
      "execution_count": null,
      "outputs": [
        {
          "output_type": "execute_result",
          "data": {
            "text/html": [
              "<div>\n",
              "<style scoped>\n",
              "    .dataframe tbody tr th:only-of-type {\n",
              "        vertical-align: middle;\n",
              "    }\n",
              "\n",
              "    .dataframe tbody tr th {\n",
              "        vertical-align: top;\n",
              "    }\n",
              "\n",
              "    .dataframe thead th {\n",
              "        text-align: right;\n",
              "    }\n",
              "</style>\n",
              "<table border=\"1\" class=\"dataframe\">\n",
              "  <thead>\n",
              "    <tr style=\"text-align: right;\">\n",
              "      <th></th>\n",
              "      <th>News</th>\n",
              "      <th>Close</th>\n",
              "      <th>Volume</th>\n",
              "      <th>Open</th>\n",
              "      <th>High</th>\n",
              "      <th>Low</th>\n",
              "    </tr>\n",
              "    <tr>\n",
              "      <th>Date</th>\n",
              "      <th></th>\n",
              "      <th></th>\n",
              "      <th></th>\n",
              "      <th></th>\n",
              "      <th></th>\n",
              "      <th></th>\n",
              "    </tr>\n",
              "  </thead>\n",
              "  <tbody>\n",
              "    <tr>\n",
              "      <th>2016-07-13</th>\n",
              "      <td>Pokemon GO could be next big marketing tool fo...</td>\n",
              "      <td>29.75</td>\n",
              "      <td>18023570</td>\n",
              "      <td>29.72</td>\n",
              "      <td>29.83</td>\n",
              "      <td>29.58</td>\n",
              "    </tr>\n",
              "    <tr>\n",
              "      <th>2016-08-18</th>\n",
              "      <td>The Rise of Local Smartphone Vendors in China ...</td>\n",
              "      <td>30.48</td>\n",
              "      <td>48656960</td>\n",
              "      <td>30.41</td>\n",
              "      <td>30.67</td>\n",
              "      <td>30.06</td>\n",
              "    </tr>\n",
              "    <tr>\n",
              "      <th>2016-08-29</th>\n",
              "      <td>A Sneak Peek at the Apple Inc. iPhone 7 and 7 ...</td>\n",
              "      <td>31.58</td>\n",
              "      <td>21049980</td>\n",
              "      <td>31.43</td>\n",
              "      <td>31.70</td>\n",
              "      <td>31.41</td>\n",
              "    </tr>\n",
              "    <tr>\n",
              "      <th>2016-09-02</th>\n",
              "      <td>Has Apple Cancelled the iPhone 7 Pro? (AAPL) W...</td>\n",
              "      <td>31.83</td>\n",
              "      <td>18144570</td>\n",
              "      <td>31.65</td>\n",
              "      <td>31.95</td>\n",
              "      <td>31.65</td>\n",
              "    </tr>\n",
              "    <tr>\n",
              "      <th>2016-09-09</th>\n",
              "      <td>Will Apple Inc. Integrate Intel Corporation&amp;qu...</td>\n",
              "      <td>30.85</td>\n",
              "      <td>25379810</td>\n",
              "      <td>31.14</td>\n",
              "      <td>31.34</td>\n",
              "      <td>30.85</td>\n",
              "    </tr>\n",
              "  </tbody>\n",
              "</table>\n",
              "</div>"
            ],
            "text/plain": [
              "                                                         News  ...    Low\n",
              "Date                                                           ...       \n",
              "2016-07-13  Pokemon GO could be next big marketing tool fo...  ...  29.58\n",
              "2016-08-18  The Rise of Local Smartphone Vendors in China ...  ...  30.06\n",
              "2016-08-29  A Sneak Peek at the Apple Inc. iPhone 7 and 7 ...  ...  31.41\n",
              "2016-09-02  Has Apple Cancelled the iPhone 7 Pro? (AAPL) W...  ...  31.65\n",
              "2016-09-09  Will Apple Inc. Integrate Intel Corporation&qu...  ...  30.85\n",
              "\n",
              "[5 rows x 6 columns]"
            ]
          },
          "metadata": {
            "tags": []
          },
          "execution_count": 21
        }
      ]
    },
    {
      "cell_type": "code",
      "metadata": {
        "colab": {
          "base_uri": "https://localhost:8080/"
        },
        "id": "yq9YZKIdGfJY",
        "outputId": "3ca2e2eb-0807-4c7e-af9d-66f7e5bc505a"
      },
      "source": [
        "df3.shape"
      ],
      "execution_count": null,
      "outputs": [
        {
          "output_type": "execute_result",
          "data": {
            "text/plain": [
              "(190, 6)"
            ]
          },
          "metadata": {
            "tags": []
          },
          "execution_count": 22
        }
      ]
    },
    {
      "cell_type": "code",
      "metadata": {
        "colab": {
          "base_uri": "https://localhost:8080/",
          "height": 579
        },
        "id": "nQbv0GSxGir8",
        "outputId": "7a6354bf-cd39-4f0a-b7ee-cef38bcfbbd5"
      },
      "source": [
        "# Visualizing the closing price history\n",
        "plt.figure(figsize=(16,9))\n",
        "plt.title('Close Price History', fontsize = 20)\n",
        "plt.plot(df3['Close'])\n",
        "plt.xlabel('Date', fontsize = 16, color = 'g')\n",
        "plt.ylabel('Close Price USD ($)', fontsize = 16, color = 'g')\n",
        "plt.xticks(fontsize = 12)\n",
        "plt.yticks(fontsize = 12)\n",
        "plt.show()"
      ],
      "execution_count": null,
      "outputs": [
        {
          "output_type": "display_data",
          "data": {
            "image/png": "[encoded data removed]",
            "text/plain": [
              "<Figure size 1152x648 with 1 Axes>"
            ]
          },
          "metadata": {
            "tags": []
          }
        }
      ]
    },
    {
      "cell_type": "code",
      "metadata": {
        "id": "er-C2SaaH0qa"
      },
      "source": [
        "import os"
      ],
      "execution_count": null,
      "outputs": []
    },
    {
      "cell_type": "code",
      "metadata": {
        "id": "mE3DGVI-Iiab"
      },
      "source": [
        "df3.to_csv('News and Historical data.csv')"
      ],
      "execution_count": null,
      "outputs": []
    },
    {
      "cell_type": "code",
      "metadata": {
        "colab": {
          "base_uri": "https://localhost:8080/",
          "height": 35
        },
        "id": "2n7R-LRTJdL0",
        "outputId": "e50fcf67-8d9f-4e43-f446-7b83b40f9301"
      },
      "source": [
        "os.getcwd()"
      ],
      "execution_count": null,
      "outputs": [
        {
          "output_type": "execute_result",
          "data": {
            "application/vnd.google.colaboratory.intrinsic+json": {
              "type": "string"
            },
            "text/plain": [
              "'/content'"
            ]
          },
          "metadata": {
            "tags": []
          },
          "execution_count": 26
        }
      ]
    },
    {
      "cell_type": "code",
      "metadata": {
        "colab": {
          "base_uri": "https://localhost:8080/",
          "height": 234
        },
        "id": "YKMzXbWPJhH4",
        "outputId": "8af98b35-2ef8-4185-a8d4-6188615a679c"
      },
      "source": [
        "df3['compound'] = ''\n",
        "df3['negative'] = ''\n",
        "df3['neutral'] = ''\n",
        "df3['positive'] = ''\n",
        "df3.head()"
      ],
      "execution_count": null,
      "outputs": [
        {
          "output_type": "execute_result",
          "data": {
            "text/html": [
              "<div>\n",
              "<style scoped>\n",
              "    .dataframe tbody tr th:only-of-type {\n",
              "        vertical-align: middle;\n",
              "    }\n",
              "\n",
              "    .dataframe tbody tr th {\n",
              "        vertical-align: top;\n",
              "    }\n",
              "\n",
              "    .dataframe thead th {\n",
              "        text-align: right;\n",
              "    }\n",
              "</style>\n",
              "<table border=\"1\" class=\"dataframe\">\n",
              "  <thead>\n",
              "    <tr style=\"text-align: right;\">\n",
              "      <th></th>\n",
              "      <th>News</th>\n",
              "      <th>Close</th>\n",
              "      <th>Volume</th>\n",
              "      <th>Open</th>\n",
              "      <th>High</th>\n",
              "      <th>Low</th>\n",
              "      <th>compound</th>\n",
              "      <th>negative</th>\n",
              "      <th>neutral</th>\n",
              "      <th>positive</th>\n",
              "    </tr>\n",
              "    <tr>\n",
              "      <th>Date</th>\n",
              "      <th></th>\n",
              "      <th></th>\n",
              "      <th></th>\n",
              "      <th></th>\n",
              "      <th></th>\n",
              "      <th></th>\n",
              "      <th></th>\n",
              "      <th></th>\n",
              "      <th></th>\n",
              "      <th></th>\n",
              "    </tr>\n",
              "  </thead>\n",
              "  <tbody>\n",
              "    <tr>\n",
              "      <th>2016-07-13</th>\n",
              "      <td>Pokemon GO could be next big marketing tool fo...</td>\n",
              "      <td>29.75</td>\n",
              "      <td>18023570</td>\n",
              "      <td>29.72</td>\n",
              "      <td>29.83</td>\n",
              "      <td>29.58</td>\n",
              "      <td></td>\n",
              "      <td></td>\n",
              "      <td></td>\n",
              "      <td></td>\n",
              "    </tr>\n",
              "    <tr>\n",
              "      <th>2016-08-18</th>\n",
              "      <td>The Rise of Local Smartphone Vendors in China ...</td>\n",
              "      <td>30.48</td>\n",
              "      <td>48656960</td>\n",
              "      <td>30.41</td>\n",
              "      <td>30.67</td>\n",
              "      <td>30.06</td>\n",
              "      <td></td>\n",
              "      <td></td>\n",
              "      <td></td>\n",
              "      <td></td>\n",
              "    </tr>\n",
              "    <tr>\n",
              "      <th>2016-08-29</th>\n",
              "      <td>A Sneak Peek at the Apple Inc. iPhone 7 and 7 ...</td>\n",
              "      <td>31.58</td>\n",
              "      <td>21049980</td>\n",
              "      <td>31.43</td>\n",
              "      <td>31.70</td>\n",
              "      <td>31.41</td>\n",
              "      <td></td>\n",
              "      <td></td>\n",
              "      <td></td>\n",
              "      <td></td>\n",
              "    </tr>\n",
              "    <tr>\n",
              "      <th>2016-09-02</th>\n",
              "      <td>Has Apple Cancelled the iPhone 7 Pro? (AAPL) W...</td>\n",
              "      <td>31.83</td>\n",
              "      <td>18144570</td>\n",
              "      <td>31.65</td>\n",
              "      <td>31.95</td>\n",
              "      <td>31.65</td>\n",
              "      <td></td>\n",
              "      <td></td>\n",
              "      <td></td>\n",
              "      <td></td>\n",
              "    </tr>\n",
              "    <tr>\n",
              "      <th>2016-09-09</th>\n",
              "      <td>Will Apple Inc. Integrate Intel Corporation&amp;qu...</td>\n",
              "      <td>30.85</td>\n",
              "      <td>25379810</td>\n",
              "      <td>31.14</td>\n",
              "      <td>31.34</td>\n",
              "      <td>30.85</td>\n",
              "      <td></td>\n",
              "      <td></td>\n",
              "      <td></td>\n",
              "      <td></td>\n",
              "    </tr>\n",
              "  </tbody>\n",
              "</table>\n",
              "</div>"
            ],
            "text/plain": [
              "                                                         News  ...  positive\n",
              "Date                                                           ...          \n",
              "2016-07-13  Pokemon GO could be next big marketing tool fo...  ...          \n",
              "2016-08-18  The Rise of Local Smartphone Vendors in China ...  ...          \n",
              "2016-08-29  A Sneak Peek at the Apple Inc. iPhone 7 and 7 ...  ...          \n",
              "2016-09-02  Has Apple Cancelled the iPhone 7 Pro? (AAPL) W...  ...          \n",
              "2016-09-09  Will Apple Inc. Integrate Intel Corporation&qu...  ...          \n",
              "\n",
              "[5 rows x 10 columns]"
            ]
          },
          "metadata": {
            "tags": []
          },
          "execution_count": 27
        }
      ]
    },
    {
      "cell_type": "code",
      "metadata": {
        "colab": {
          "base_uri": "https://localhost:8080/"
        },
        "id": "Y5Nwk9oQJ5f_",
        "outputId": "1d83d6db-fdde-473c-f7c3-a37a7cceab75"
      },
      "source": [
        "import nltk\n",
        "nltk.download('vader_lexicon')"
      ],
      "execution_count": null,
      "outputs": [
        {
          "output_type": "stream",
          "text": [
            "[nltk_data] Downloading package vader_lexicon to /root/nltk_data...\n"
          ],
          "name": "stdout"
        },
        {
          "output_type": "execute_result",
          "data": {
            "text/plain": [
              "True"
            ]
          },
          "metadata": {
            "tags": []
          },
          "execution_count": 28
        }
      ]
    },
    {
      "cell_type": "code",
      "metadata": {
        "colab": {
          "base_uri": "https://localhost:8080/",
          "height": 287
        },
        "id": "201JBt5jKCsA",
        "outputId": "8b8d0ad8-a21e-42bd-9bd0-cb6a93f942e3"
      },
      "source": [
        "from nltk.sentiment.vader import SentimentIntensityAnalyzer\n",
        "import unicodedata\n",
        "\n",
        "# instantiating the Sentiment Analyzer\n",
        "sid = SentimentIntensityAnalyzer()\n",
        "\n",
        "# calculating sentiment scores\n",
        "df3['compound'] = df3['News'].apply(lambda x: sid.polarity_scores(x)['compound'])\n",
        "df3['negative'] = df3['News'].apply(lambda x: sid.polarity_scores(x)['neg'])\n",
        "df3['neutral'] = df3['News'].apply(lambda x: sid.polarity_scores(x)['neu'])\n",
        "df3['positive'] = df3['News'].apply(lambda x: sid.polarity_scores(x)['pos'])\n",
        "\n",
        "# displaying the stock data\n",
        "df3.head()"
      ],
      "execution_count": null,
      "outputs": [
        {
          "output_type": "stream",
          "text": [
            "/usr/local/lib/python3.7/dist-packages/nltk/twitter/__init__.py:20: UserWarning: The twython library has not been installed. Some functionality from the twitter package will not be available.\n",
            "  warnings.warn(\"The twython library has not been installed. \"\n"
          ],
          "name": "stderr"
        },
        {
          "output_type": "execute_result",
          "data": {
            "text/html": [
              "<div>\n",
              "<style scoped>\n",
              "    .dataframe tbody tr th:only-of-type {\n",
              "        vertical-align: middle;\n",
              "    }\n",
              "\n",
              "    .dataframe tbody tr th {\n",
              "        vertical-align: top;\n",
              "    }\n",
              "\n",
              "    .dataframe thead th {\n",
              "        text-align: right;\n",
              "    }\n",
              "</style>\n",
              "<table border=\"1\" class=\"dataframe\">\n",
              "  <thead>\n",
              "    <tr style=\"text-align: right;\">\n",
              "      <th></th>\n",
              "      <th>News</th>\n",
              "      <th>Close</th>\n",
              "      <th>Volume</th>\n",
              "      <th>Open</th>\n",
              "      <th>High</th>\n",
              "      <th>Low</th>\n",
              "      <th>compound</th>\n",
              "      <th>negative</th>\n",
              "      <th>neutral</th>\n",
              "      <th>positive</th>\n",
              "    </tr>\n",
              "    <tr>\n",
              "      <th>Date</th>\n",
              "      <th></th>\n",
              "      <th></th>\n",
              "      <th></th>\n",
              "      <th></th>\n",
              "      <th></th>\n",
              "      <th></th>\n",
              "      <th></th>\n",
              "      <th></th>\n",
              "      <th></th>\n",
              "      <th></th>\n",
              "    </tr>\n",
              "  </thead>\n",
              "  <tbody>\n",
              "    <tr>\n",
              "      <th>2016-07-13</th>\n",
              "      <td>Pokemon GO could be next big marketing tool fo...</td>\n",
              "      <td>29.75</td>\n",
              "      <td>18023570</td>\n",
              "      <td>29.72</td>\n",
              "      <td>29.83</td>\n",
              "      <td>29.58</td>\n",
              "      <td>0.7481</td>\n",
              "      <td>0.055</td>\n",
              "      <td>0.873</td>\n",
              "      <td>0.072</td>\n",
              "    </tr>\n",
              "    <tr>\n",
              "      <th>2016-08-18</th>\n",
              "      <td>The Rise of Local Smartphone Vendors in China ...</td>\n",
              "      <td>30.48</td>\n",
              "      <td>48656960</td>\n",
              "      <td>30.41</td>\n",
              "      <td>30.67</td>\n",
              "      <td>30.06</td>\n",
              "      <td>-0.9599</td>\n",
              "      <td>0.107</td>\n",
              "      <td>0.814</td>\n",
              "      <td>0.080</td>\n",
              "    </tr>\n",
              "    <tr>\n",
              "      <th>2016-08-29</th>\n",
              "      <td>A Sneak Peek at the Apple Inc. iPhone 7 and 7 ...</td>\n",
              "      <td>31.58</td>\n",
              "      <td>21049980</td>\n",
              "      <td>31.43</td>\n",
              "      <td>31.70</td>\n",
              "      <td>31.41</td>\n",
              "      <td>0.0770</td>\n",
              "      <td>0.056</td>\n",
              "      <td>0.884</td>\n",
              "      <td>0.060</td>\n",
              "    </tr>\n",
              "    <tr>\n",
              "      <th>2016-09-02</th>\n",
              "      <td>Has Apple Cancelled the iPhone 7 Pro? (AAPL) W...</td>\n",
              "      <td>31.83</td>\n",
              "      <td>18144570</td>\n",
              "      <td>31.65</td>\n",
              "      <td>31.95</td>\n",
              "      <td>31.65</td>\n",
              "      <td>0.9470</td>\n",
              "      <td>0.071</td>\n",
              "      <td>0.842</td>\n",
              "      <td>0.087</td>\n",
              "    </tr>\n",
              "    <tr>\n",
              "      <th>2016-09-09</th>\n",
              "      <td>Will Apple Inc. Integrate Intel Corporation&amp;qu...</td>\n",
              "      <td>30.85</td>\n",
              "      <td>25379810</td>\n",
              "      <td>31.14</td>\n",
              "      <td>31.34</td>\n",
              "      <td>30.85</td>\n",
              "      <td>0.9798</td>\n",
              "      <td>0.060</td>\n",
              "      <td>0.853</td>\n",
              "      <td>0.087</td>\n",
              "    </tr>\n",
              "  </tbody>\n",
              "</table>\n",
              "</div>"
            ],
            "text/plain": [
              "                                                         News  ...  positive\n",
              "Date                                                           ...          \n",
              "2016-07-13  Pokemon GO could be next big marketing tool fo...  ...     0.072\n",
              "2016-08-18  The Rise of Local Smartphone Vendors in China ...  ...     0.080\n",
              "2016-08-29  A Sneak Peek at the Apple Inc. iPhone 7 and 7 ...  ...     0.060\n",
              "2016-09-02  Has Apple Cancelled the iPhone 7 Pro? (AAPL) W...  ...     0.087\n",
              "2016-09-09  Will Apple Inc. Integrate Intel Corporation&qu...  ...     0.087\n",
              "\n",
              "[5 rows x 10 columns]"
            ]
          },
          "metadata": {
            "tags": []
          },
          "execution_count": 29
        }
      ]
    },
    {
      "cell_type": "code",
      "metadata": {
        "colab": {
          "base_uri": "https://localhost:8080/"
        },
        "id": "1DIPFPBCLJnv",
        "outputId": "0ee042d3-460c-4422-aa4c-3aa2eb05773f"
      },
      "source": [
        "df3.columns"
      ],
      "execution_count": null,
      "outputs": [
        {
          "output_type": "execute_result",
          "data": {
            "text/plain": [
              "Index(['News', 'Close', 'Volume', 'Open', 'High', 'Low', 'compound',\n",
              "       'negative', 'neutral', 'positive'],\n",
              "      dtype='object')"
            ]
          },
          "metadata": {
            "tags": []
          },
          "execution_count": 30
        }
      ]
    },
    {
      "cell_type": "code",
      "metadata": {
        "colab": {
          "base_uri": "https://localhost:8080/",
          "height": 234
        },
        "id": "F3MoH4YYLa-R",
        "outputId": "d9a13d28-12d1-4451-a3e5-c3c58ceb0c37"
      },
      "source": [
        "#data.drop('Headlines', inplace=True, axis=1)\n",
        "\n",
        "# rearranging the columns of the whole stock_data\n",
        "df3 = df3[['Close', 'compound', 'negative', 'neutral', 'positive', 'Open', 'High', 'Low', 'Volume']]\n",
        "\n",
        "# displaying the final stock_data\n",
        "df3.head()"
      ],
      "execution_count": null,
      "outputs": [
        {
          "output_type": "execute_result",
          "data": {
            "text/html": [
              "<div>\n",
              "<style scoped>\n",
              "    .dataframe tbody tr th:only-of-type {\n",
              "        vertical-align: middle;\n",
              "    }\n",
              "\n",
              "    .dataframe tbody tr th {\n",
              "        vertical-align: top;\n",
              "    }\n",
              "\n",
              "    .dataframe thead th {\n",
              "        text-align: right;\n",
              "    }\n",
              "</style>\n",
              "<table border=\"1\" class=\"dataframe\">\n",
              "  <thead>\n",
              "    <tr style=\"text-align: right;\">\n",
              "      <th></th>\n",
              "      <th>Close</th>\n",
              "      <th>compound</th>\n",
              "      <th>negative</th>\n",
              "      <th>neutral</th>\n",
              "      <th>positive</th>\n",
              "      <th>Open</th>\n",
              "      <th>High</th>\n",
              "      <th>Low</th>\n",
              "      <th>Volume</th>\n",
              "    </tr>\n",
              "    <tr>\n",
              "      <th>Date</th>\n",
              "      <th></th>\n",
              "      <th></th>\n",
              "      <th></th>\n",
              "      <th></th>\n",
              "      <th></th>\n",
              "      <th></th>\n",
              "      <th></th>\n",
              "      <th></th>\n",
              "      <th></th>\n",
              "    </tr>\n",
              "  </thead>\n",
              "  <tbody>\n",
              "    <tr>\n",
              "      <th>2016-07-13</th>\n",
              "      <td>29.75</td>\n",
              "      <td>0.7481</td>\n",
              "      <td>0.055</td>\n",
              "      <td>0.873</td>\n",
              "      <td>0.072</td>\n",
              "      <td>29.72</td>\n",
              "      <td>29.83</td>\n",
              "      <td>29.58</td>\n",
              "      <td>18023570</td>\n",
              "    </tr>\n",
              "    <tr>\n",
              "      <th>2016-08-18</th>\n",
              "      <td>30.48</td>\n",
              "      <td>-0.9599</td>\n",
              "      <td>0.107</td>\n",
              "      <td>0.814</td>\n",
              "      <td>0.080</td>\n",
              "      <td>30.41</td>\n",
              "      <td>30.67</td>\n",
              "      <td>30.06</td>\n",
              "      <td>48656960</td>\n",
              "    </tr>\n",
              "    <tr>\n",
              "      <th>2016-08-29</th>\n",
              "      <td>31.58</td>\n",
              "      <td>0.0770</td>\n",
              "      <td>0.056</td>\n",
              "      <td>0.884</td>\n",
              "      <td>0.060</td>\n",
              "      <td>31.43</td>\n",
              "      <td>31.70</td>\n",
              "      <td>31.41</td>\n",
              "      <td>21049980</td>\n",
              "    </tr>\n",
              "    <tr>\n",
              "      <th>2016-09-02</th>\n",
              "      <td>31.83</td>\n",
              "      <td>0.9470</td>\n",
              "      <td>0.071</td>\n",
              "      <td>0.842</td>\n",
              "      <td>0.087</td>\n",
              "      <td>31.65</td>\n",
              "      <td>31.95</td>\n",
              "      <td>31.65</td>\n",
              "      <td>18144570</td>\n",
              "    </tr>\n",
              "    <tr>\n",
              "      <th>2016-09-09</th>\n",
              "      <td>30.85</td>\n",
              "      <td>0.9798</td>\n",
              "      <td>0.060</td>\n",
              "      <td>0.853</td>\n",
              "      <td>0.087</td>\n",
              "      <td>31.14</td>\n",
              "      <td>31.34</td>\n",
              "      <td>30.85</td>\n",
              "      <td>25379810</td>\n",
              "    </tr>\n",
              "  </tbody>\n",
              "</table>\n",
              "</div>"
            ],
            "text/plain": [
              "            Close  compound  negative  neutral  ...   Open   High    Low    Volume\n",
              "Date                                            ...                               \n",
              "2016-07-13  29.75    0.7481     0.055    0.873  ...  29.72  29.83  29.58  18023570\n",
              "2016-08-18  30.48   -0.9599     0.107    0.814  ...  30.41  30.67  30.06  48656960\n",
              "2016-08-29  31.58    0.0770     0.056    0.884  ...  31.43  31.70  31.41  21049980\n",
              "2016-09-02  31.83    0.9470     0.071    0.842  ...  31.65  31.95  31.65  18144570\n",
              "2016-09-09  30.85    0.9798     0.060    0.853  ...  31.14  31.34  30.85  25379810\n",
              "\n",
              "[5 rows x 9 columns]"
            ]
          },
          "metadata": {
            "tags": []
          },
          "execution_count": 31
        }
      ]
    },
    {
      "cell_type": "code",
      "metadata": {
        "id": "W2mFDcg1ODeL"
      },
      "source": [
        "stockdata=df3.to_csv('stockdata.csv')"
      ],
      "execution_count": null,
      "outputs": []
    },
    {
      "cell_type": "code",
      "metadata": {
        "colab": {
          "base_uri": "https://localhost:8080/",
          "height": 234
        },
        "id": "MzqnitPGOK7a",
        "outputId": "581ee916-10ed-4929-87ef-b0bb300cbe55"
      },
      "source": [
        "stockdata = pd.read_csv('stockdata.csv', index_col = False)\n",
        "\n",
        "stockdata.rename(columns={'Unnamed: 0':'Date'}, inplace = True)\n",
        "\n",
        "stockdata.set_index('Date', inplace=True)\n",
        "\n",
        "stockdata.head()"
      ],
      "execution_count": null,
      "outputs": [
        {
          "output_type": "execute_result",
          "data": {
            "text/html": [
              "<div>\n",
              "<style scoped>\n",
              "    .dataframe tbody tr th:only-of-type {\n",
              "        vertical-align: middle;\n",
              "    }\n",
              "\n",
              "    .dataframe tbody tr th {\n",
              "        vertical-align: top;\n",
              "    }\n",
              "\n",
              "    .dataframe thead th {\n",
              "        text-align: right;\n",
              "    }\n",
              "</style>\n",
              "<table border=\"1\" class=\"dataframe\">\n",
              "  <thead>\n",
              "    <tr style=\"text-align: right;\">\n",
              "      <th></th>\n",
              "      <th>Close</th>\n",
              "      <th>compound</th>\n",
              "      <th>negative</th>\n",
              "      <th>neutral</th>\n",
              "      <th>positive</th>\n",
              "      <th>Open</th>\n",
              "      <th>High</th>\n",
              "      <th>Low</th>\n",
              "      <th>Volume</th>\n",
              "    </tr>\n",
              "    <tr>\n",
              "      <th>Date</th>\n",
              "      <th></th>\n",
              "      <th></th>\n",
              "      <th></th>\n",
              "      <th></th>\n",
              "      <th></th>\n",
              "      <th></th>\n",
              "      <th></th>\n",
              "      <th></th>\n",
              "      <th></th>\n",
              "    </tr>\n",
              "  </thead>\n",
              "  <tbody>\n",
              "    <tr>\n",
              "      <th>2016-07-13</th>\n",
              "      <td>29.75</td>\n",
              "      <td>0.7481</td>\n",
              "      <td>0.055</td>\n",
              "      <td>0.873</td>\n",
              "      <td>0.072</td>\n",
              "      <td>29.72</td>\n",
              "      <td>29.83</td>\n",
              "      <td>29.58</td>\n",
              "      <td>18023570</td>\n",
              "    </tr>\n",
              "    <tr>\n",
              "      <th>2016-08-18</th>\n",
              "      <td>30.48</td>\n",
              "      <td>-0.9599</td>\n",
              "      <td>0.107</td>\n",
              "      <td>0.814</td>\n",
              "      <td>0.080</td>\n",
              "      <td>30.41</td>\n",
              "      <td>30.67</td>\n",
              "      <td>30.06</td>\n",
              "      <td>48656960</td>\n",
              "    </tr>\n",
              "    <tr>\n",
              "      <th>2016-08-29</th>\n",
              "      <td>31.58</td>\n",
              "      <td>0.0770</td>\n",
              "      <td>0.056</td>\n",
              "      <td>0.884</td>\n",
              "      <td>0.060</td>\n",
              "      <td>31.43</td>\n",
              "      <td>31.70</td>\n",
              "      <td>31.41</td>\n",
              "      <td>21049980</td>\n",
              "    </tr>\n",
              "    <tr>\n",
              "      <th>2016-09-02</th>\n",
              "      <td>31.83</td>\n",
              "      <td>0.9470</td>\n",
              "      <td>0.071</td>\n",
              "      <td>0.842</td>\n",
              "      <td>0.087</td>\n",
              "      <td>31.65</td>\n",
              "      <td>31.95</td>\n",
              "      <td>31.65</td>\n",
              "      <td>18144570</td>\n",
              "    </tr>\n",
              "    <tr>\n",
              "      <th>2016-09-09</th>\n",
              "      <td>30.85</td>\n",
              "      <td>0.9798</td>\n",
              "      <td>0.060</td>\n",
              "      <td>0.853</td>\n",
              "      <td>0.087</td>\n",
              "      <td>31.14</td>\n",
              "      <td>31.34</td>\n",
              "      <td>30.85</td>\n",
              "      <td>25379810</td>\n",
              "    </tr>\n",
              "  </tbody>\n",
              "</table>\n",
              "</div>"
            ],
            "text/plain": [
              "            Close  compound  negative  neutral  ...   Open   High    Low    Volume\n",
              "Date                                            ...                               \n",
              "2016-07-13  29.75    0.7481     0.055    0.873  ...  29.72  29.83  29.58  18023570\n",
              "2016-08-18  30.48   -0.9599     0.107    0.814  ...  30.41  30.67  30.06  48656960\n",
              "2016-08-29  31.58    0.0770     0.056    0.884  ...  31.43  31.70  31.41  21049980\n",
              "2016-09-02  31.83    0.9470     0.071    0.842  ...  31.65  31.95  31.65  18144570\n",
              "2016-09-09  30.85    0.9798     0.060    0.853  ...  31.14  31.34  30.85  25379810\n",
              "\n",
              "[5 rows x 9 columns]"
            ]
          },
          "metadata": {
            "tags": []
          },
          "execution_count": 33
        }
      ]
    },
    {
      "cell_type": "code",
      "metadata": {
        "colab": {
          "base_uri": "https://localhost:8080/"
        },
        "id": "1KKhW3O5OQve",
        "outputId": "cec0700a-604e-4f1b-b9bb-3d6002e13be2"
      },
      "source": [
        "stockdata.isna().any()"
      ],
      "execution_count": null,
      "outputs": [
        {
          "output_type": "execute_result",
          "data": {
            "text/plain": [
              "Close       False\n",
              "compound    False\n",
              "negative    False\n",
              "neutral     False\n",
              "positive    False\n",
              "Open        False\n",
              "High        False\n",
              "Low         False\n",
              "Volume      False\n",
              "dtype: bool"
            ]
          },
          "metadata": {
            "tags": []
          },
          "execution_count": 34
        }
      ]
    },
    {
      "cell_type": "code",
      "metadata": {
        "colab": {
          "base_uri": "https://localhost:8080/",
          "height": 295
        },
        "id": "hVdQI-IVOZMw",
        "outputId": "433692bc-f0c6-4a6b-9b0c-71f053de34a2"
      },
      "source": [
        "stockdata.describe(include='all')"
      ],
      "execution_count": null,
      "outputs": [
        {
          "output_type": "execute_result",
          "data": {
            "text/html": [
              "<div>\n",
              "<style scoped>\n",
              "    .dataframe tbody tr th:only-of-type {\n",
              "        vertical-align: middle;\n",
              "    }\n",
              "\n",
              "    .dataframe tbody tr th {\n",
              "        vertical-align: top;\n",
              "    }\n",
              "\n",
              "    .dataframe thead th {\n",
              "        text-align: right;\n",
              "    }\n",
              "</style>\n",
              "<table border=\"1\" class=\"dataframe\">\n",
              "  <thead>\n",
              "    <tr style=\"text-align: right;\">\n",
              "      <th></th>\n",
              "      <th>Close</th>\n",
              "      <th>compound</th>\n",
              "      <th>negative</th>\n",
              "      <th>neutral</th>\n",
              "      <th>positive</th>\n",
              "      <th>Open</th>\n",
              "      <th>High</th>\n",
              "      <th>Low</th>\n",
              "      <th>Volume</th>\n",
              "    </tr>\n",
              "  </thead>\n",
              "  <tbody>\n",
              "    <tr>\n",
              "      <th>count</th>\n",
              "      <td>190.000000</td>\n",
              "      <td>190.000000</td>\n",
              "      <td>190.000000</td>\n",
              "      <td>190.000000</td>\n",
              "      <td>190.000000</td>\n",
              "      <td>190.000000</td>\n",
              "      <td>190.000000</td>\n",
              "      <td>190.000000</td>\n",
              "      <td>1.900000e+02</td>\n",
              "    </tr>\n",
              "    <tr>\n",
              "      <th>mean</th>\n",
              "      <td>40.819895</td>\n",
              "      <td>0.753372</td>\n",
              "      <td>0.057532</td>\n",
              "      <td>0.838826</td>\n",
              "      <td>0.103711</td>\n",
              "      <td>40.792000</td>\n",
              "      <td>41.189158</td>\n",
              "      <td>40.408421</td>\n",
              "      <td>2.491887e+07</td>\n",
              "    </tr>\n",
              "    <tr>\n",
              "      <th>std</th>\n",
              "      <td>8.015476</td>\n",
              "      <td>0.572641</td>\n",
              "      <td>0.025885</td>\n",
              "      <td>0.034404</td>\n",
              "      <td>0.028770</td>\n",
              "      <td>7.951553</td>\n",
              "      <td>8.082090</td>\n",
              "      <td>7.869391</td>\n",
              "      <td>1.196158e+07</td>\n",
              "    </tr>\n",
              "    <tr>\n",
              "      <th>min</th>\n",
              "      <td>29.450000</td>\n",
              "      <td>-0.998400</td>\n",
              "      <td>0.012000</td>\n",
              "      <td>0.726000</td>\n",
              "      <td>0.037000</td>\n",
              "      <td>29.720000</td>\n",
              "      <td>29.830000</td>\n",
              "      <td>29.400000</td>\n",
              "      <td>8.809738e+06</td>\n",
              "    </tr>\n",
              "    <tr>\n",
              "      <th>25%</th>\n",
              "      <td>32.865000</td>\n",
              "      <td>0.939650</td>\n",
              "      <td>0.041000</td>\n",
              "      <td>0.814000</td>\n",
              "      <td>0.084250</td>\n",
              "      <td>32.502500</td>\n",
              "      <td>32.935000</td>\n",
              "      <td>32.435000</td>\n",
              "      <td>1.744216e+07</td>\n",
              "    </tr>\n",
              "    <tr>\n",
              "      <th>50%</th>\n",
              "      <td>41.800000</td>\n",
              "      <td>0.982350</td>\n",
              "      <td>0.054000</td>\n",
              "      <td>0.842000</td>\n",
              "      <td>0.102000</td>\n",
              "      <td>42.170000</td>\n",
              "      <td>42.555000</td>\n",
              "      <td>41.600000</td>\n",
              "      <td>2.196696e+07</td>\n",
              "    </tr>\n",
              "    <tr>\n",
              "      <th>75%</th>\n",
              "      <td>46.565000</td>\n",
              "      <td>0.994600</td>\n",
              "      <td>0.067000</td>\n",
              "      <td>0.863000</td>\n",
              "      <td>0.120750</td>\n",
              "      <td>46.535000</td>\n",
              "      <td>47.035000</td>\n",
              "      <td>46.187500</td>\n",
              "      <td>2.730315e+07</td>\n",
              "    </tr>\n",
              "    <tr>\n",
              "      <th>max</th>\n",
              "      <td>58.050000</td>\n",
              "      <td>0.999400</td>\n",
              "      <td>0.171000</td>\n",
              "      <td>0.914000</td>\n",
              "      <td>0.188000</td>\n",
              "      <td>58.000000</td>\n",
              "      <td>58.230000</td>\n",
              "      <td>57.870000</td>\n",
              "      <td>8.541644e+07</td>\n",
              "    </tr>\n",
              "  </tbody>\n",
              "</table>\n",
              "</div>"
            ],
            "text/plain": [
              "            Close    compound    negative  ...        High         Low        Volume\n",
              "count  190.000000  190.000000  190.000000  ...  190.000000  190.000000  1.900000e+02\n",
              "mean    40.819895    0.753372    0.057532  ...   41.189158   40.408421  2.491887e+07\n",
              "std      8.015476    0.572641    0.025885  ...    8.082090    7.869391  1.196158e+07\n",
              "min     29.450000   -0.998400    0.012000  ...   29.830000   29.400000  8.809738e+06\n",
              "25%     32.865000    0.939650    0.041000  ...   32.935000   32.435000  1.744216e+07\n",
              "50%     41.800000    0.982350    0.054000  ...   42.555000   41.600000  2.196696e+07\n",
              "75%     46.565000    0.994600    0.067000  ...   47.035000   46.187500  2.730315e+07\n",
              "max     58.050000    0.999400    0.171000  ...   58.230000   57.870000  8.541644e+07\n",
              "\n",
              "[8 rows x 9 columns]"
            ]
          },
          "metadata": {
            "tags": []
          },
          "execution_count": 35
        }
      ]
    },
    {
      "cell_type": "code",
      "metadata": {
        "colab": {
          "base_uri": "https://localhost:8080/"
        },
        "id": "jc7wrjTLOeAP",
        "outputId": "6f7069f2-6596-40a3-a205-817bd2c7aa26"
      },
      "source": [
        "stockdata.info()"
      ],
      "execution_count": null,
      "outputs": [
        {
          "output_type": "stream",
          "text": [
            "<class 'pandas.core.frame.DataFrame'>\n",
            "Index: 190 entries, 2016-07-13 to 2021-06-18\n",
            "Data columns (total 9 columns):\n",
            " #   Column    Non-Null Count  Dtype  \n",
            "---  ------    --------------  -----  \n",
            " 0   Close     190 non-null    float64\n",
            " 1   compound  190 non-null    float64\n",
            " 2   negative  190 non-null    float64\n",
            " 3   neutral   190 non-null    float64\n",
            " 4   positive  190 non-null    float64\n",
            " 5   Open      190 non-null    float64\n",
            " 6   High      190 non-null    float64\n",
            " 7   Low       190 non-null    float64\n",
            " 8   Volume    190 non-null    int64  \n",
            "dtypes: float64(8), int64(1)\n",
            "memory usage: 14.8+ KB\n"
          ],
          "name": "stdout"
        }
      ]
    },
    {
      "cell_type": "code",
      "metadata": {
        "colab": {
          "base_uri": "https://localhost:8080/"
        },
        "id": "dWUNhxEnOj97",
        "outputId": "089a024c-f163-4383-b534-29abac38a50d"
      },
      "source": [
        "close_price = stockdata.iloc[:,0] \n",
        "\n",
        "print(\"Close Price:\")\n",
        "close_price"
      ],
      "execution_count": null,
      "outputs": [
        {
          "output_type": "stream",
          "text": [
            "Close Price:\n"
          ],
          "name": "stdout"
        },
        {
          "output_type": "execute_result",
          "data": {
            "text/plain": [
              "Date\n",
              "2016-07-13    29.75\n",
              "2016-08-18    30.48\n",
              "2016-08-29    31.58\n",
              "2016-09-02    31.83\n",
              "2016-09-09    30.85\n",
              "              ...  \n",
              "2021-04-23    51.91\n",
              "2021-05-04    50.71\n",
              "2021-05-07    53.43\n",
              "2021-05-21    52.43\n",
              "2021-06-18    52.07\n",
              "Name: Close, Length: 190, dtype: float64"
            ]
          },
          "metadata": {
            "tags": []
          },
          "execution_count": 37
        }
      ]
    },
    {
      "cell_type": "code",
      "metadata": {
        "colab": {
          "base_uri": "https://localhost:8080/",
          "height": 696
        },
        "id": "ivg4M_G6Oqxv",
        "outputId": "635119fb-b5bf-4dcc-d20e-5d98cbc24235"
      },
      "source": [
        "need_data = pd.concat([close_price], axis=1)\n",
        "\n",
        "need_data.columns = ['close_price']  \n",
        "need_data.tail(20)"
      ],
      "execution_count": null,
      "outputs": [
        {
          "output_type": "execute_result",
          "data": {
            "text/html": [
              "<div>\n",
              "<style scoped>\n",
              "    .dataframe tbody tr th:only-of-type {\n",
              "        vertical-align: middle;\n",
              "    }\n",
              "\n",
              "    .dataframe tbody tr th {\n",
              "        vertical-align: top;\n",
              "    }\n",
              "\n",
              "    .dataframe thead th {\n",
              "        text-align: right;\n",
              "    }\n",
              "</style>\n",
              "<table border=\"1\" class=\"dataframe\">\n",
              "  <thead>\n",
              "    <tr style=\"text-align: right;\">\n",
              "      <th></th>\n",
              "      <th>close_price</th>\n",
              "    </tr>\n",
              "    <tr>\n",
              "      <th>Date</th>\n",
              "      <th></th>\n",
              "    </tr>\n",
              "  </thead>\n",
              "  <tbody>\n",
              "    <tr>\n",
              "      <th>2020-06-15</th>\n",
              "      <td>45.35</td>\n",
              "    </tr>\n",
              "    <tr>\n",
              "      <th>2020-07-01</th>\n",
              "      <td>46.06</td>\n",
              "    </tr>\n",
              "    <tr>\n",
              "      <th>2020-07-16</th>\n",
              "      <td>45.78</td>\n",
              "    </tr>\n",
              "    <tr>\n",
              "      <th>2020-07-22</th>\n",
              "      <td>46.90</td>\n",
              "    </tr>\n",
              "    <tr>\n",
              "      <th>2020-08-10</th>\n",
              "      <td>47.73</td>\n",
              "    </tr>\n",
              "    <tr>\n",
              "      <th>2020-09-04</th>\n",
              "      <td>40.82</td>\n",
              "    </tr>\n",
              "    <tr>\n",
              "      <th>2020-09-28</th>\n",
              "      <td>39.13</td>\n",
              "    </tr>\n",
              "    <tr>\n",
              "      <th>2020-09-30</th>\n",
              "      <td>39.39</td>\n",
              "    </tr>\n",
              "    <tr>\n",
              "      <th>2020-10-12</th>\n",
              "      <td>40.36</td>\n",
              "    </tr>\n",
              "    <tr>\n",
              "      <th>2020-11-04</th>\n",
              "      <td>36.57</td>\n",
              "    </tr>\n",
              "    <tr>\n",
              "      <th>2020-11-13</th>\n",
              "      <td>41.40</td>\n",
              "    </tr>\n",
              "    <tr>\n",
              "      <th>2020-12-21</th>\n",
              "      <td>44.88</td>\n",
              "    </tr>\n",
              "    <tr>\n",
              "      <th>2021-02-18</th>\n",
              "      <td>46.34</td>\n",
              "    </tr>\n",
              "    <tr>\n",
              "      <th>2021-03-22</th>\n",
              "      <td>50.30</td>\n",
              "    </tr>\n",
              "    <tr>\n",
              "      <th>2021-04-07</th>\n",
              "      <td>51.77</td>\n",
              "    </tr>\n",
              "    <tr>\n",
              "      <th>2021-04-23</th>\n",
              "      <td>51.91</td>\n",
              "    </tr>\n",
              "    <tr>\n",
              "      <th>2021-05-04</th>\n",
              "      <td>50.71</td>\n",
              "    </tr>\n",
              "    <tr>\n",
              "      <th>2021-05-07</th>\n",
              "      <td>53.43</td>\n",
              "    </tr>\n",
              "    <tr>\n",
              "      <th>2021-05-21</th>\n",
              "      <td>52.43</td>\n",
              "    </tr>\n",
              "    <tr>\n",
              "      <th>2021-06-18</th>\n",
              "      <td>52.07</td>\n",
              "    </tr>\n",
              "  </tbody>\n",
              "</table>\n",
              "</div>"
            ],
            "text/plain": [
              "            close_price\n",
              "Date                   \n",
              "2020-06-15        45.35\n",
              "2020-07-01        46.06\n",
              "2020-07-16        45.78\n",
              "2020-07-22        46.90\n",
              "2020-08-10        47.73\n",
              "2020-09-04        40.82\n",
              "2020-09-28        39.13\n",
              "2020-09-30        39.39\n",
              "2020-10-12        40.36\n",
              "2020-11-04        36.57\n",
              "2020-11-13        41.40\n",
              "2020-12-21        44.88\n",
              "2021-02-18        46.34\n",
              "2021-03-22        50.30\n",
              "2021-04-07        51.77\n",
              "2021-04-23        51.91\n",
              "2021-05-04        50.71\n",
              "2021-05-07        53.43\n",
              "2021-05-21        52.43\n",
              "2021-06-18        52.07"
            ]
          },
          "metadata": {
            "tags": []
          },
          "execution_count": 38
        }
      ]
    },
    {
      "cell_type": "code",
      "metadata": {
        "id": "rQ48sXZ_O4rW"
      },
      "source": [
        "dataset = need_data.values"
      ],
      "execution_count": null,
      "outputs": []
    },
    {
      "cell_type": "code",
      "metadata": {
        "colab": {
          "base_uri": "https://localhost:8080/"
        },
        "id": "fp53LJPUO8-w",
        "outputId": "f052f4b2-08c6-4693-9d49-fe7e923dd290"
      },
      "source": [
        "training_data_len = math.ceil(len(dataset)*.8)\n",
        "training_data_len"
      ],
      "execution_count": null,
      "outputs": [
        {
          "output_type": "execute_result",
          "data": {
            "text/plain": [
              "152"
            ]
          },
          "metadata": {
            "tags": []
          },
          "execution_count": 40
        }
      ]
    },
    {
      "cell_type": "code",
      "metadata": {
        "colab": {
          "base_uri": "https://localhost:8080/"
        },
        "id": "Fd-MkN6DPAyi",
        "outputId": "3c46d634-a702-4ddb-dc34-e0a263b9ca03"
      },
      "source": [
        "scaler = MinMaxScaler(feature_range=(0,1))\n",
        "scaled_data = scaler.fit_transform(dataset)\n",
        "\n",
        "print(scaled_data)"
      ],
      "execution_count": null,
      "outputs": [
        {
          "output_type": "stream",
          "text": [
            "[[0.01048951]\n",
            " [0.03601399]\n",
            " [0.07447552]\n",
            " [0.08321678]\n",
            " [0.04895105]\n",
            " [0.05629371]\n",
            " [0.06608392]\n",
            " [0.05664336]\n",
            " [0.06643357]\n",
            " [0.07482517]\n",
            " [0.07097902]\n",
            " [0.07062937]\n",
            " [0.02517483]\n",
            " [0.03986014]\n",
            " [0.06713287]\n",
            " [0.07867133]\n",
            " [0.02097902]\n",
            " [0.02552448]\n",
            " [0.02097902]\n",
            " [0.00909091]\n",
            " [0.01328671]\n",
            " [0.01293706]\n",
            " [0.        ]\n",
            " [0.01748252]\n",
            " [0.02132867]\n",
            " [0.04125874]\n",
            " [0.03251748]\n",
            " [0.02062937]\n",
            " [0.03671329]\n",
            " [0.1       ]\n",
            " [0.11783217]\n",
            " [0.1451049 ]\n",
            " [0.16328671]\n",
            " [0.16713287]\n",
            " [0.16888112]\n",
            " [0.15      ]\n",
            " [0.15      ]\n",
            " [0.1520979 ]\n",
            " [0.12412587]\n",
            " [0.12447552]\n",
            " [0.15034965]\n",
            " [0.16713287]\n",
            " [0.06748252]\n",
            " [0.06153846]\n",
            " [0.07132867]\n",
            " [0.08286713]\n",
            " [0.08076923]\n",
            " [0.07377622]\n",
            " [0.09755245]\n",
            " [0.08076923]\n",
            " [0.05979021]\n",
            " [0.10104895]\n",
            " [0.05559441]\n",
            " [0.03216783]\n",
            " [0.04300699]\n",
            " [0.06363636]\n",
            " [0.0513986 ]\n",
            " [0.08461538]\n",
            " [0.07097902]\n",
            " [0.13636364]\n",
            " [0.15384615]\n",
            " [0.14475524]\n",
            " [0.14335664]\n",
            " [0.14055944]\n",
            " [0.14300699]\n",
            " [0.16783217]\n",
            " [0.17552448]\n",
            " [0.15734266]\n",
            " [0.16293706]\n",
            " [0.22482517]\n",
            " [0.22552448]\n",
            " [0.25944056]\n",
            " [0.29545455]\n",
            " [0.30944056]\n",
            " [0.31748252]\n",
            " [0.41083916]\n",
            " [0.41433566]\n",
            " [0.43531469]\n",
            " [0.42832168]\n",
            " [0.32622378]\n",
            " [0.37482517]\n",
            " [0.38076923]\n",
            " [0.38986014]\n",
            " [0.51153846]\n",
            " [0.47167832]\n",
            " [0.51818182]\n",
            " [0.4534965 ]\n",
            " [0.51083916]\n",
            " [0.42692308]\n",
            " [0.46993007]\n",
            " [0.4986014 ]\n",
            " [0.50384615]\n",
            " [0.58916084]\n",
            " [0.56048951]\n",
            " [0.48111888]\n",
            " [0.4965035 ]\n",
            " [0.49755245]\n",
            " [0.46363636]\n",
            " [0.49405594]\n",
            " [0.49405594]\n",
            " [0.4527972 ]\n",
            " [0.46783217]\n",
            " [0.50384615]\n",
            " [0.5493007 ]\n",
            " [0.63041958]\n",
            " [0.63916084]\n",
            " [0.62307692]\n",
            " [0.68846154]\n",
            " [0.66188811]\n",
            " [0.66398601]\n",
            " [0.61748252]\n",
            " [0.56538462]\n",
            " [0.52027972]\n",
            " [0.56993007]\n",
            " [0.62552448]\n",
            " [0.56993007]\n",
            " [0.62552448]\n",
            " [0.62027972]\n",
            " [0.64475524]\n",
            " [0.70559441]\n",
            " [0.91433566]\n",
            " [0.89125874]\n",
            " [0.87902098]\n",
            " [0.83601399]\n",
            " [0.92587413]\n",
            " [0.94055944]\n",
            " [0.88461538]\n",
            " [0.92587413]\n",
            " [0.90734266]\n",
            " [0.9493007 ]\n",
            " [0.92167832]\n",
            " [0.9451049 ]\n",
            " [1.        ]\n",
            " [0.90699301]\n",
            " [0.76643357]\n",
            " [0.8034965 ]\n",
            " [0.77237762]\n",
            " [0.81363636]\n",
            " [0.61223776]\n",
            " [0.63041958]\n",
            " [0.63041958]\n",
            " [0.66153846]\n",
            " [0.66153846]\n",
            " [0.66468531]\n",
            " [0.66468531]\n",
            " [0.54685315]\n",
            " [0.54685315]\n",
            " [0.54895105]\n",
            " [0.54895105]\n",
            " [0.53811189]\n",
            " [0.53811189]\n",
            " [0.53846154]\n",
            " [0.53846154]\n",
            " [0.5520979 ]\n",
            " [0.5520979 ]\n",
            " [0.56713287]\n",
            " [0.60104895]\n",
            " [0.64055944]\n",
            " [0.58881119]\n",
            " [0.35769231]\n",
            " [0.29755245]\n",
            " [0.18006993]\n",
            " [0.32762238]\n",
            " [0.38006993]\n",
            " [0.41083916]\n",
            " [0.45559441]\n",
            " [0.5034965 ]\n",
            " [0.51818182]\n",
            " [0.53006993]\n",
            " [0.56468531]\n",
            " [0.55594406]\n",
            " [0.58076923]\n",
            " [0.57097902]\n",
            " [0.61013986]\n",
            " [0.63916084]\n",
            " [0.39755245]\n",
            " [0.33846154]\n",
            " [0.34755245]\n",
            " [0.38146853]\n",
            " [0.24895105]\n",
            " [0.41783217]\n",
            " [0.53951049]\n",
            " [0.59055944]\n",
            " [0.72902098]\n",
            " [0.78041958]\n",
            " [0.78531469]\n",
            " [0.74335664]\n",
            " [0.83846154]\n",
            " [0.8034965 ]\n",
            " [0.79090909]]\n"
          ],
          "name": "stdout"
        }
      ]
    },
    {
      "cell_type": "code",
      "metadata": {
        "colab": {
          "base_uri": "https://localhost:8080/"
        },
        "id": "KLgVi6VzPH9v",
        "outputId": "9ee430bf-5389-4882-f8bd-bf55f2605e27"
      },
      "source": [
        "train_data = scaled_data[0:training_data_len , :]\n",
        "x_train = []\n",
        "y_train = []\n",
        "past_days = 20\n",
        "for i in range(past_days, len(train_data)):\n",
        "    x_train.append(train_data[i-past_days:i, :])\n",
        "    y_train.append(train_data[i, 0])\n",
        "    if i<= past_days:\n",
        "        print(x_train)\n",
        "        print(y_train)\n",
        "        print()"
      ],
      "execution_count": null,
      "outputs": [
        {
          "output_type": "stream",
          "text": [
            "[array([[0.01048951],\n",
            "       [0.03601399],\n",
            "       [0.07447552],\n",
            "       [0.08321678],\n",
            "       [0.04895105],\n",
            "       [0.05629371],\n",
            "       [0.06608392],\n",
            "       [0.05664336],\n",
            "       [0.06643357],\n",
            "       [0.07482517],\n",
            "       [0.07097902],\n",
            "       [0.07062937],\n",
            "       [0.02517483],\n",
            "       [0.03986014],\n",
            "       [0.06713287],\n",
            "       [0.07867133],\n",
            "       [0.02097902],\n",
            "       [0.02552448],\n",
            "       [0.02097902],\n",
            "       [0.00909091]])]\n",
            "[0.013286713286713159]\n",
            "\n"
          ],
          "name": "stdout"
        }
      ]
    },
    {
      "cell_type": "code",
      "metadata": {
        "id": "O1Rr1m4BPQm_"
      },
      "source": [
        "x_train, y_train = np.array(x_train), np.array(y_train)"
      ],
      "execution_count": null,
      "outputs": []
    },
    {
      "cell_type": "code",
      "metadata": {
        "colab": {
          "base_uri": "https://localhost:8080/"
        },
        "id": "3KrVzFiyPVW0",
        "outputId": "08ea24b2-6396-45a5-994d-695ed113c19c"
      },
      "source": [
        "x_train = np.reshape(x_train, (x_train.shape[0], x_train.shape[1], 1))\n",
        "x_train"
      ],
      "execution_count": null,
      "outputs": [
        {
          "output_type": "execute_result",
          "data": {
            "text/plain": [
              "array([[[0.01048951],\n",
              "        [0.03601399],\n",
              "        [0.07447552],\n",
              "        ...,\n",
              "        [0.02552448],\n",
              "        [0.02097902],\n",
              "        [0.00909091]],\n",
              "\n",
              "       [[0.03601399],\n",
              "        [0.07447552],\n",
              "        [0.08321678],\n",
              "        ...,\n",
              "        [0.02097902],\n",
              "        [0.00909091],\n",
              "        [0.01328671]],\n",
              "\n",
              "       [[0.07447552],\n",
              "        [0.08321678],\n",
              "        [0.04895105],\n",
              "        ...,\n",
              "        [0.00909091],\n",
              "        [0.01328671],\n",
              "        [0.01293706]],\n",
              "\n",
              "       ...,\n",
              "\n",
              "       [[0.9493007 ],\n",
              "        [0.92167832],\n",
              "        [0.9451049 ],\n",
              "        ...,\n",
              "        [0.54685315],\n",
              "        [0.54895105],\n",
              "        [0.54895105]],\n",
              "\n",
              "       [[0.92167832],\n",
              "        [0.9451049 ],\n",
              "        [1.        ],\n",
              "        ...,\n",
              "        [0.54895105],\n",
              "        [0.54895105],\n",
              "        [0.53811189]],\n",
              "\n",
              "       [[0.9451049 ],\n",
              "        [1.        ],\n",
              "        [0.90699301],\n",
              "        ...,\n",
              "        [0.54895105],\n",
              "        [0.53811189],\n",
              "        [0.53811189]]])"
            ]
          },
          "metadata": {
            "tags": []
          },
          "execution_count": 44
        }
      ]
    },
    {
      "cell_type": "code",
      "metadata": {
        "colab": {
          "base_uri": "https://localhost:8080/"
        },
        "id": "34OHkDUIPZnZ",
        "outputId": "49cffb56-db3a-4af6-df01-4d659b372272"
      },
      "source": [
        "print(x_train.shape)\n",
        "print(y_train.shape)"
      ],
      "execution_count": null,
      "outputs": [
        {
          "output_type": "stream",
          "text": [
            "(132, 20, 1)\n",
            "(132,)\n"
          ],
          "name": "stdout"
        }
      ]
    },
    {
      "cell_type": "code",
      "metadata": {
        "colab": {
          "base_uri": "https://localhost:8080/"
        },
        "id": "yYI2-8uEPeeo",
        "outputId": "cee2de3b-6c87-43c9-b4b2-d3747599db24"
      },
      "source": [
        "model = Sequential()\n",
        "model.add(LSTM(160, return_sequences=True, activation = \"tanh\", input_shape= (x_train.shape[1], 1)))\n",
        "model.add(Dropout(0.2))\n",
        "model.add(LSTM(80, return_sequences= False, activation = \"tanh\"))\n",
        "model.add(Dense(60))\n",
        "model.add(Dense(1))\n",
        "\n",
        "model.summary()"
      ],
      "execution_count": null,
      "outputs": [
        {
          "output_type": "stream",
          "text": [
            "Model: \"sequential\"\n",
            "_________________________________________________________________\n",
            "Layer (type)                 Output Shape              Param #   \n",
            "=================================================================\n",
            "lstm (LSTM)                  (None, 20, 160)           103680    \n",
            "_________________________________________________________________\n",
            "dropout (Dropout)            (None, 20, 160)           0         \n",
            "_________________________________________________________________\n",
            "lstm_1 (LSTM)                (None, 80)                77120     \n",
            "_________________________________________________________________\n",
            "dense (Dense)                (None, 60)                4860      \n",
            "_________________________________________________________________\n",
            "dense_1 (Dense)              (None, 1)                 61        \n",
            "=================================================================\n",
            "Total params: 185,721\n",
            "Trainable params: 185,721\n",
            "Non-trainable params: 0\n",
            "_________________________________________________________________\n"
          ],
          "name": "stdout"
        }
      ]
    },
    {
      "cell_type": "code",
      "metadata": {
        "id": "dKmaJrn7PlPP"
      },
      "source": [
        "model.compile(optimizer='adam', loss='mean_squared_error')"
      ],
      "execution_count": null,
      "outputs": []
    },
    {
      "cell_type": "code",
      "metadata": {
        "colab": {
          "base_uri": "https://localhost:8080/"
        },
        "id": "vMaTWZlSPs18",
        "outputId": "f0e644ce-6da7-413c-cdc4-0f6e0d1de7b2"
      },
      "source": [
        "from keras.callbacks import EarlyStopping\n",
        "early_stop = EarlyStopping(monitor = 'val_loss', mode = 'min',verbose = 1,patience = 5)\n",
        "\n",
        "history = model.fit(x_train, y_train, batch_size = 64, epochs = 100, verbose = 1, validation_split = 0.2, callbacks = [early_stop])"
      ],
      "execution_count": null,
      "outputs": [
        {
          "output_type": "stream",
          "text": [
            "Epoch 1/100\n",
            "2/2 [==============================] - 21s 1s/step - loss: 0.1550 - val_loss: 0.0954\n",
            "Epoch 2/100\n",
            "2/2 [==============================] - 0s 89ms/step - loss: 0.0321 - val_loss: 0.1831\n",
            "Epoch 3/100\n",
            "2/2 [==============================] - 0s 94ms/step - loss: 0.0310 - val_loss: 0.1205\n",
            "Epoch 4/100\n",
            "2/2 [==============================] - 0s 89ms/step - loss: 0.0157 - val_loss: 0.0217\n",
            "Epoch 5/100\n",
            "2/2 [==============================] - 0s 99ms/step - loss: 0.0104 - val_loss: 0.0323\n",
            "Epoch 6/100\n",
            "2/2 [==============================] - 0s 92ms/step - loss: 0.0168 - val_loss: 0.0304\n",
            "Epoch 7/100\n",
            "2/2 [==============================] - 0s 89ms/step - loss: 0.0156 - val_loss: 0.0184\n",
            "Epoch 8/100\n",
            "2/2 [==============================] - 0s 88ms/step - loss: 0.0096 - val_loss: 0.0360\n",
            "Epoch 9/100\n",
            "2/2 [==============================] - 0s 93ms/step - loss: 0.0077 - val_loss: 0.0737\n",
            "Epoch 10/100\n",
            "2/2 [==============================] - 0s 92ms/step - loss: 0.0099 - val_loss: 0.0728\n",
            "Epoch 11/100\n",
            "2/2 [==============================] - 0s 93ms/step - loss: 0.0090 - val_loss: 0.0431\n",
            "Epoch 12/100\n",
            "2/2 [==============================] - 0s 96ms/step - loss: 0.0061 - val_loss: 0.0251\n",
            "Epoch 00012: early stopping\n"
          ],
          "name": "stdout"
        }
      ]
    },
    {
      "cell_type": "code",
      "metadata": {
        "colab": {
          "base_uri": "https://localhost:8080/",
          "height": 364
        },
        "id": "UKJsq3x9P5i5",
        "outputId": "5d62e400-b418-4eca-9930-304bed0d037a"
      },
      "source": [
        "loss = pd.DataFrame(model.history.history)\n",
        "loss.plot()"
      ],
      "execution_count": null,
      "outputs": [
        {
          "output_type": "execute_result",
          "data": {
            "text/plain": [
              "<matplotlib.axes._subplots.AxesSubplot at 0x7f866f924810>"
            ]
          },
          "metadata": {
            "tags": []
          },
          "execution_count": 49
        },
        {
          "output_type": "display_data",
          "data": {
            "image/png": "[encoded data removed]",
            "text/plain": [
              "<Figure size 576x396 with 1 Axes>"
            ]
          },
          "metadata": {
            "tags": []
          }
        }
      ]
    },
    {
      "cell_type": "code",
      "metadata": {
        "id": "KW-IKs1lQFw0"
      },
      "source": [
        "test_data = scaled_data[training_data_len - past_days: , :]\n",
        "\n",
        "x_test = []\n",
        "y_test = dataset[training_data_len:, 0]\n",
        "for i in range(past_days, len(test_data)):\n",
        "    x_test.append(test_data[i-past_days:i, :])"
      ],
      "execution_count": null,
      "outputs": []
    },
    {
      "cell_type": "code",
      "metadata": {
        "id": "RwRRXAOGQKge"
      },
      "source": [
        "x_test = np.array(x_test)"
      ],
      "execution_count": null,
      "outputs": []
    },
    {
      "cell_type": "code",
      "metadata": {
        "id": "NfNXuKKvQMaj"
      },
      "source": [
        "x_test = np.reshape(x_test, (x_test.shape[0], x_test.shape[1], 1))"
      ],
      "execution_count": null,
      "outputs": []
    },
    {
      "cell_type": "code",
      "metadata": {
        "id": "QyqPpo4tQVa7"
      },
      "source": [
        "predictions = model.predict(x_test)\n",
        "predictions = scaler.inverse_transform(predictions)"
      ],
      "execution_count": null,
      "outputs": []
    },
    {
      "cell_type": "code",
      "metadata": {
        "colab": {
          "base_uri": "https://localhost:8080/"
        },
        "id": "8CCQ7zSOQZ1a",
        "outputId": "729d3c22-355e-49c6-b5fa-c2a08223ca3c"
      },
      "source": [
        "predictions"
      ],
      "execution_count": null,
      "outputs": [
        {
          "output_type": "execute_result",
          "data": {
            "text/plain": [
              "array([[47.81091 ],\n",
              "       [47.42866 ],\n",
              "       [47.129158],\n",
              "       [46.908504],\n",
              "       [46.744484],\n",
              "       [46.67565 ],\n",
              "       [46.71224 ],\n",
              "       [46.79765 ],\n",
              "       [46.612343],\n",
              "       [46.16481 ],\n",
              "       [45.404545],\n",
              "       [44.62759 ],\n",
              "       [43.940567],\n",
              "       [43.390373],\n",
              "       [43.035038],\n",
              "       [42.87565 ],\n",
              "       [42.879845],\n",
              "       [43.011944],\n",
              "       [43.267612],\n",
              "       [43.585445],\n",
              "       [43.9584  ],\n",
              "       [44.340504],\n",
              "       [44.75326 ],\n",
              "       [45.205112],\n",
              "       [45.382423],\n",
              "       [45.27601 ],\n",
              "       [44.97902 ],\n",
              "       [44.614437],\n",
              "       [44.095547],\n",
              "       [43.664215],\n",
              "       [43.474728],\n",
              "       [43.49675 ],\n",
              "       [43.84526 ],\n",
              "       [44.476112],\n",
              "       [45.28046 ],\n",
              "       [46.116352],\n",
              "       [47.043194],\n",
              "       [47.951397]], dtype=float32)"
            ]
          },
          "metadata": {
            "tags": []
          },
          "execution_count": 54
        }
      ]
    },
    {
      "cell_type": "code",
      "metadata": {
        "colab": {
          "base_uri": "https://localhost:8080/"
        },
        "id": "L7W-r4feQhMV",
        "outputId": "6ef7b379-f9c4-4aae-da58-a742896d0e1a"
      },
      "source": [
        "rmse = np.sqrt(np.mean(predictions - y_test)**2)\n",
        "print(\"Root Mean Squared Error = \", rmse)"
      ],
      "execution_count": null,
      "outputs": [
        {
          "output_type": "stream",
          "text": [
            "Root Mean Squared Error =  0.3825315696314755\n"
          ],
          "name": "stdout"
        }
      ]
    },
    {
      "cell_type": "code",
      "metadata": {
        "colab": {
          "base_uri": "https://localhost:8080/",
          "height": 572
        },
        "id": "y42LU6e-Qmt8",
        "outputId": "b95082c5-2c11-4872-b61b-03fcd113d003"
      },
      "source": [
        "import copy\n",
        "valid = copy.deepcopy(df3[training_data_len:])\n",
        "valid['Predictions'] = predictions\n",
        "plt.figure(figsize=(12,9))\n",
        "plt.title('Model')\n",
        "plt.xlabel('Date', fontsize= 15, color = 'g')\n",
        "plt.ylabel('Close Price USD ($)', fontsize = 15, color = 'g')\n",
        "plt.plot(valid['Close'], color = 'blue', label = 'Actual Close Price')\n",
        "plt.plot(valid['Predictions'],  color = 'red', label = 'Predicted Close Price')\n",
        "plt.legend(loc = 'lower right', fontsize = 12)\n",
        "plt.xticks(fontsize = 12)\n",
        "plt.yticks(fontsize = 12)\n",
        "plt.show()"
      ],
      "execution_count": null,
      "outputs": [
        {
          "output_type": "display_data",
          "data": {
            "image/png": "[encoded data removed]",
            "text/plain": [
              "<Figure size 864x648 with 1 Axes>"
            ]
          },
          "metadata": {
            "tags": []
          }
        }
      ]
    },
    {
      "cell_type": "code",
      "metadata": {
        "colab": {
          "base_uri": "https://localhost:8080/",
          "height": 1000
        },
        "id": "PlL8PenSQ8yN",
        "outputId": "585cd234-f36a-404e-ec96-289f45899f7d"
      },
      "source": [
        "valid"
      ],
      "execution_count": null,
      "outputs": [
        {
          "output_type": "execute_result",
          "data": {
            "text/html": [
              "<div>\n",
              "<style scoped>\n",
              "    .dataframe tbody tr th:only-of-type {\n",
              "        vertical-align: middle;\n",
              "    }\n",
              "\n",
              "    .dataframe tbody tr th {\n",
              "        vertical-align: top;\n",
              "    }\n",
              "\n",
              "    .dataframe thead th {\n",
              "        text-align: right;\n",
              "    }\n",
              "</style>\n",
              "<table border=\"1\" class=\"dataframe\">\n",
              "  <thead>\n",
              "    <tr style=\"text-align: right;\">\n",
              "      <th></th>\n",
              "      <th>Close</th>\n",
              "      <th>compound</th>\n",
              "      <th>negative</th>\n",
              "      <th>neutral</th>\n",
              "      <th>positive</th>\n",
              "      <th>Open</th>\n",
              "      <th>High</th>\n",
              "      <th>Low</th>\n",
              "      <th>Volume</th>\n",
              "      <th>Predictions</th>\n",
              "    </tr>\n",
              "    <tr>\n",
              "      <th>Date</th>\n",
              "      <th></th>\n",
              "      <th></th>\n",
              "      <th></th>\n",
              "      <th></th>\n",
              "      <th></th>\n",
              "      <th></th>\n",
              "      <th></th>\n",
              "      <th></th>\n",
              "      <th></th>\n",
              "      <th></th>\n",
              "    </tr>\n",
              "  </thead>\n",
              "  <tbody>\n",
              "    <tr>\n",
              "      <th>2019-11-22</th>\n",
              "      <td>44.85</td>\n",
              "      <td>0.9965</td>\n",
              "      <td>0.057</td>\n",
              "      <td>0.784</td>\n",
              "      <td>0.158</td>\n",
              "      <td>45.15</td>\n",
              "      <td>45.17</td>\n",
              "      <td>44.69</td>\n",
              "      <td>18725690</td>\n",
              "      <td>47.810909</td>\n",
              "    </tr>\n",
              "    <tr>\n",
              "      <th>2019-11-27</th>\n",
              "      <td>45.24</td>\n",
              "      <td>0.9895</td>\n",
              "      <td>0.073</td>\n",
              "      <td>0.801</td>\n",
              "      <td>0.127</td>\n",
              "      <td>45.36</td>\n",
              "      <td>45.42</td>\n",
              "      <td>44.93</td>\n",
              "      <td>14895010</td>\n",
              "      <td>47.428661</td>\n",
              "    </tr>\n",
              "    <tr>\n",
              "      <th>2019-11-27</th>\n",
              "      <td>45.24</td>\n",
              "      <td>0.9895</td>\n",
              "      <td>0.073</td>\n",
              "      <td>0.801</td>\n",
              "      <td>0.127</td>\n",
              "      <td>45.36</td>\n",
              "      <td>45.42</td>\n",
              "      <td>44.93</td>\n",
              "      <td>14895010</td>\n",
              "      <td>47.129158</td>\n",
              "    </tr>\n",
              "    <tr>\n",
              "      <th>2019-12-12</th>\n",
              "      <td>45.67</td>\n",
              "      <td>0.9956</td>\n",
              "      <td>0.058</td>\n",
              "      <td>0.798</td>\n",
              "      <td>0.143</td>\n",
              "      <td>44.55</td>\n",
              "      <td>45.77</td>\n",
              "      <td>44.41</td>\n",
              "      <td>27073510</td>\n",
              "      <td>46.908504</td>\n",
              "    </tr>\n",
              "    <tr>\n",
              "      <th>2019-12-18</th>\n",
              "      <td>46.64</td>\n",
              "      <td>0.9955</td>\n",
              "      <td>0.029</td>\n",
              "      <td>0.807</td>\n",
              "      <td>0.164</td>\n",
              "      <td>46.52</td>\n",
              "      <td>46.76</td>\n",
              "      <td>46.25</td>\n",
              "      <td>21928070</td>\n",
              "      <td>46.744484</td>\n",
              "    </tr>\n",
              "    <tr>\n",
              "      <th>2020-01-28</th>\n",
              "      <td>47.77</td>\n",
              "      <td>0.9986</td>\n",
              "      <td>0.038</td>\n",
              "      <td>0.808</td>\n",
              "      <td>0.154</td>\n",
              "      <td>47.52</td>\n",
              "      <td>47.97</td>\n",
              "      <td>47.50</td>\n",
              "      <td>14035050</td>\n",
              "      <td>46.675652</td>\n",
              "    </tr>\n",
              "    <tr>\n",
              "      <th>2020-02-19</th>\n",
              "      <td>46.29</td>\n",
              "      <td>0.9896</td>\n",
              "      <td>0.061</td>\n",
              "      <td>0.830</td>\n",
              "      <td>0.109</td>\n",
              "      <td>46.69</td>\n",
              "      <td>46.81</td>\n",
              "      <td>45.90</td>\n",
              "      <td>27626380</td>\n",
              "      <td>46.712238</td>\n",
              "    </tr>\n",
              "    <tr>\n",
              "      <th>2020-03-06</th>\n",
              "      <td>39.68</td>\n",
              "      <td>0.9806</td>\n",
              "      <td>0.081</td>\n",
              "      <td>0.813</td>\n",
              "      <td>0.106</td>\n",
              "      <td>38.00</td>\n",
              "      <td>39.95</td>\n",
              "      <td>37.80</td>\n",
              "      <td>48605590</td>\n",
              "      <td>46.797649</td>\n",
              "    </tr>\n",
              "    <tr>\n",
              "      <th>2020-03-09</th>\n",
              "      <td>37.96</td>\n",
              "      <td>0.9884</td>\n",
              "      <td>0.088</td>\n",
              "      <td>0.782</td>\n",
              "      <td>0.130</td>\n",
              "      <td>36.90</td>\n",
              "      <td>39.56</td>\n",
              "      <td>36.29</td>\n",
              "      <td>61535330</td>\n",
              "      <td>46.612343</td>\n",
              "    </tr>\n",
              "    <tr>\n",
              "      <th>2020-03-23</th>\n",
              "      <td>34.60</td>\n",
              "      <td>0.9949</td>\n",
              "      <td>0.051</td>\n",
              "      <td>0.830</td>\n",
              "      <td>0.119</td>\n",
              "      <td>35.51</td>\n",
              "      <td>35.82</td>\n",
              "      <td>33.74</td>\n",
              "      <td>39823400</td>\n",
              "      <td>46.164810</td>\n",
              "    </tr>\n",
              "    <tr>\n",
              "      <th>2020-03-27</th>\n",
              "      <td>38.82</td>\n",
              "      <td>0.9757</td>\n",
              "      <td>0.040</td>\n",
              "      <td>0.871</td>\n",
              "      <td>0.089</td>\n",
              "      <td>39.21</td>\n",
              "      <td>40.15</td>\n",
              "      <td>38.41</td>\n",
              "      <td>31278580</td>\n",
              "      <td>45.404545</td>\n",
              "    </tr>\n",
              "    <tr>\n",
              "      <th>2020-03-30</th>\n",
              "      <td>40.32</td>\n",
              "      <td>0.9925</td>\n",
              "      <td>0.050</td>\n",
              "      <td>0.816</td>\n",
              "      <td>0.134</td>\n",
              "      <td>39.45</td>\n",
              "      <td>40.49</td>\n",
              "      <td>38.96</td>\n",
              "      <td>27120330</td>\n",
              "      <td>44.627590</td>\n",
              "    </tr>\n",
              "    <tr>\n",
              "      <th>2020-04-09</th>\n",
              "      <td>41.20</td>\n",
              "      <td>0.9712</td>\n",
              "      <td>0.041</td>\n",
              "      <td>0.870</td>\n",
              "      <td>0.089</td>\n",
              "      <td>42.09</td>\n",
              "      <td>42.20</td>\n",
              "      <td>40.85</td>\n",
              "      <td>27650200</td>\n",
              "      <td>43.940567</td>\n",
              "    </tr>\n",
              "    <tr>\n",
              "      <th>2020-04-17</th>\n",
              "      <td>42.48</td>\n",
              "      <td>0.8659</td>\n",
              "      <td>0.042</td>\n",
              "      <td>0.898</td>\n",
              "      <td>0.060</td>\n",
              "      <td>42.25</td>\n",
              "      <td>42.64</td>\n",
              "      <td>41.74</td>\n",
              "      <td>30701460</td>\n",
              "      <td>43.390373</td>\n",
              "    </tr>\n",
              "    <tr>\n",
              "      <th>2020-05-14</th>\n",
              "      <td>43.85</td>\n",
              "      <td>0.9969</td>\n",
              "      <td>0.026</td>\n",
              "      <td>0.846</td>\n",
              "      <td>0.128</td>\n",
              "      <td>43.43</td>\n",
              "      <td>44.58</td>\n",
              "      <td>43.26</td>\n",
              "      <td>50417740</td>\n",
              "      <td>43.035038</td>\n",
              "    </tr>\n",
              "    <tr>\n",
              "      <th>2020-05-15</th>\n",
              "      <td>44.27</td>\n",
              "      <td>0.9907</td>\n",
              "      <td>0.053</td>\n",
              "      <td>0.843</td>\n",
              "      <td>0.104</td>\n",
              "      <td>42.93</td>\n",
              "      <td>44.38</td>\n",
              "      <td>42.85</td>\n",
              "      <td>30573030</td>\n",
              "      <td>42.875648</td>\n",
              "    </tr>\n",
              "    <tr>\n",
              "      <th>2020-05-19</th>\n",
              "      <td>44.61</td>\n",
              "      <td>0.9987</td>\n",
              "      <td>0.018</td>\n",
              "      <td>0.832</td>\n",
              "      <td>0.150</td>\n",
              "      <td>44.83</td>\n",
              "      <td>44.98</td>\n",
              "      <td>44.41</td>\n",
              "      <td>24345420</td>\n",
              "      <td>42.879845</td>\n",
              "    </tr>\n",
              "    <tr>\n",
              "      <th>2020-05-28</th>\n",
              "      <td>45.60</td>\n",
              "      <td>0.9928</td>\n",
              "      <td>0.013</td>\n",
              "      <td>0.898</td>\n",
              "      <td>0.089</td>\n",
              "      <td>45.90</td>\n",
              "      <td>46.46</td>\n",
              "      <td>45.37</td>\n",
              "      <td>20027750</td>\n",
              "      <td>43.011944</td>\n",
              "    </tr>\n",
              "    <tr>\n",
              "      <th>2020-06-15</th>\n",
              "      <td>45.35</td>\n",
              "      <td>0.9979</td>\n",
              "      <td>0.039</td>\n",
              "      <td>0.805</td>\n",
              "      <td>0.155</td>\n",
              "      <td>44.12</td>\n",
              "      <td>45.76</td>\n",
              "      <td>43.93</td>\n",
              "      <td>21300100</td>\n",
              "      <td>43.267612</td>\n",
              "    </tr>\n",
              "    <tr>\n",
              "      <th>2020-07-01</th>\n",
              "      <td>46.06</td>\n",
              "      <td>0.9587</td>\n",
              "      <td>0.063</td>\n",
              "      <td>0.841</td>\n",
              "      <td>0.096</td>\n",
              "      <td>46.54</td>\n",
              "      <td>46.72</td>\n",
              "      <td>46.00</td>\n",
              "      <td>17129460</td>\n",
              "      <td>43.585445</td>\n",
              "    </tr>\n",
              "    <tr>\n",
              "      <th>2020-07-16</th>\n",
              "      <td>45.78</td>\n",
              "      <td>0.9929</td>\n",
              "      <td>0.060</td>\n",
              "      <td>0.824</td>\n",
              "      <td>0.117</td>\n",
              "      <td>45.70</td>\n",
              "      <td>45.83</td>\n",
              "      <td>45.20</td>\n",
              "      <td>17709450</td>\n",
              "      <td>43.958401</td>\n",
              "    </tr>\n",
              "    <tr>\n",
              "      <th>2020-07-22</th>\n",
              "      <td>46.90</td>\n",
              "      <td>0.9981</td>\n",
              "      <td>0.018</td>\n",
              "      <td>0.875</td>\n",
              "      <td>0.107</td>\n",
              "      <td>47.02</td>\n",
              "      <td>47.11</td>\n",
              "      <td>46.53</td>\n",
              "      <td>27218260</td>\n",
              "      <td>44.340504</td>\n",
              "    </tr>\n",
              "    <tr>\n",
              "      <th>2020-08-10</th>\n",
              "      <td>47.73</td>\n",
              "      <td>0.4980</td>\n",
              "      <td>0.100</td>\n",
              "      <td>0.788</td>\n",
              "      <td>0.112</td>\n",
              "      <td>47.16</td>\n",
              "      <td>48.00</td>\n",
              "      <td>47.16</td>\n",
              "      <td>14999190</td>\n",
              "      <td>44.753262</td>\n",
              "    </tr>\n",
              "    <tr>\n",
              "      <th>2020-09-04</th>\n",
              "      <td>40.82</td>\n",
              "      <td>0.9698</td>\n",
              "      <td>0.062</td>\n",
              "      <td>0.852</td>\n",
              "      <td>0.085</td>\n",
              "      <td>41.20</td>\n",
              "      <td>41.43</td>\n",
              "      <td>40.44</td>\n",
              "      <td>34867420</td>\n",
              "      <td>45.205112</td>\n",
              "    </tr>\n",
              "    <tr>\n",
              "      <th>2020-09-28</th>\n",
              "      <td>39.13</td>\n",
              "      <td>0.9908</td>\n",
              "      <td>0.067</td>\n",
              "      <td>0.815</td>\n",
              "      <td>0.118</td>\n",
              "      <td>39.20</td>\n",
              "      <td>39.29</td>\n",
              "      <td>38.79</td>\n",
              "      <td>24275700</td>\n",
              "      <td>45.382423</td>\n",
              "    </tr>\n",
              "    <tr>\n",
              "      <th>2020-09-30</th>\n",
              "      <td>39.39</td>\n",
              "      <td>0.9909</td>\n",
              "      <td>0.053</td>\n",
              "      <td>0.845</td>\n",
              "      <td>0.102</td>\n",
              "      <td>39.09</td>\n",
              "      <td>39.70</td>\n",
              "      <td>39.02</td>\n",
              "      <td>27113200</td>\n",
              "      <td>45.276009</td>\n",
              "    </tr>\n",
              "    <tr>\n",
              "      <th>2020-10-12</th>\n",
              "      <td>40.36</td>\n",
              "      <td>0.9987</td>\n",
              "      <td>0.037</td>\n",
              "      <td>0.832</td>\n",
              "      <td>0.131</td>\n",
              "      <td>39.93</td>\n",
              "      <td>40.53</td>\n",
              "      <td>39.63</td>\n",
              "      <td>22757250</td>\n",
              "      <td>44.979019</td>\n",
              "    </tr>\n",
              "    <tr>\n",
              "      <th>2020-11-04</th>\n",
              "      <td>36.57</td>\n",
              "      <td>0.9983</td>\n",
              "      <td>0.030</td>\n",
              "      <td>0.822</td>\n",
              "      <td>0.148</td>\n",
              "      <td>37.03</td>\n",
              "      <td>37.30</td>\n",
              "      <td>36.50</td>\n",
              "      <td>30121920</td>\n",
              "      <td>44.614437</td>\n",
              "    </tr>\n",
              "    <tr>\n",
              "      <th>2020-11-13</th>\n",
              "      <td>41.40</td>\n",
              "      <td>0.9977</td>\n",
              "      <td>0.035</td>\n",
              "      <td>0.853</td>\n",
              "      <td>0.112</td>\n",
              "      <td>41.20</td>\n",
              "      <td>41.52</td>\n",
              "      <td>40.56</td>\n",
              "      <td>49120100</td>\n",
              "      <td>44.095547</td>\n",
              "    </tr>\n",
              "    <tr>\n",
              "      <th>2020-12-21</th>\n",
              "      <td>44.88</td>\n",
              "      <td>0.7643</td>\n",
              "      <td>0.058</td>\n",
              "      <td>0.869</td>\n",
              "      <td>0.073</td>\n",
              "      <td>44.47</td>\n",
              "      <td>44.96</td>\n",
              "      <td>44.07</td>\n",
              "      <td>19865300</td>\n",
              "      <td>43.664215</td>\n",
              "    </tr>\n",
              "    <tr>\n",
              "      <th>2021-02-18</th>\n",
              "      <td>46.34</td>\n",
              "      <td>0.9935</td>\n",
              "      <td>0.029</td>\n",
              "      <td>0.869</td>\n",
              "      <td>0.102</td>\n",
              "      <td>46.39</td>\n",
              "      <td>46.40</td>\n",
              "      <td>45.69</td>\n",
              "      <td>16867520</td>\n",
              "      <td>43.474728</td>\n",
              "    </tr>\n",
              "    <tr>\n",
              "      <th>2021-03-22</th>\n",
              "      <td>50.30</td>\n",
              "      <td>0.9768</td>\n",
              "      <td>0.055</td>\n",
              "      <td>0.858</td>\n",
              "      <td>0.087</td>\n",
              "      <td>48.94</td>\n",
              "      <td>50.38</td>\n",
              "      <td>48.94</td>\n",
              "      <td>28813880</td>\n",
              "      <td>43.496750</td>\n",
              "    </tr>\n",
              "    <tr>\n",
              "      <th>2021-04-07</th>\n",
              "      <td>51.77</td>\n",
              "      <td>0.9806</td>\n",
              "      <td>0.027</td>\n",
              "      <td>0.902</td>\n",
              "      <td>0.071</td>\n",
              "      <td>52.01</td>\n",
              "      <td>52.14</td>\n",
              "      <td>51.58</td>\n",
              "      <td>15783650</td>\n",
              "      <td>43.845261</td>\n",
              "    </tr>\n",
              "    <tr>\n",
              "      <th>2021-04-23</th>\n",
              "      <td>51.91</td>\n",
              "      <td>0.9979</td>\n",
              "      <td>0.050</td>\n",
              "      <td>0.829</td>\n",
              "      <td>0.122</td>\n",
              "      <td>51.50</td>\n",
              "      <td>52.13</td>\n",
              "      <td>51.18</td>\n",
              "      <td>14017740</td>\n",
              "      <td>44.476112</td>\n",
              "    </tr>\n",
              "    <tr>\n",
              "      <th>2021-05-04</th>\n",
              "      <td>50.71</td>\n",
              "      <td>0.9980</td>\n",
              "      <td>0.058</td>\n",
              "      <td>0.819</td>\n",
              "      <td>0.123</td>\n",
              "      <td>51.11</td>\n",
              "      <td>51.23</td>\n",
              "      <td>50.30</td>\n",
              "      <td>18164790</td>\n",
              "      <td>45.280460</td>\n",
              "    </tr>\n",
              "    <tr>\n",
              "      <th>2021-05-07</th>\n",
              "      <td>53.43</td>\n",
              "      <td>0.9653</td>\n",
              "      <td>0.080</td>\n",
              "      <td>0.827</td>\n",
              "      <td>0.094</td>\n",
              "      <td>52.48</td>\n",
              "      <td>53.68</td>\n",
              "      <td>52.22</td>\n",
              "      <td>24146010</td>\n",
              "      <td>46.116352</td>\n",
              "    </tr>\n",
              "    <tr>\n",
              "      <th>2021-05-21</th>\n",
              "      <td>52.43</td>\n",
              "      <td>0.9798</td>\n",
              "      <td>0.079</td>\n",
              "      <td>0.814</td>\n",
              "      <td>0.107</td>\n",
              "      <td>52.77</td>\n",
              "      <td>52.93</td>\n",
              "      <td>52.24</td>\n",
              "      <td>24468370</td>\n",
              "      <td>47.043194</td>\n",
              "    </tr>\n",
              "    <tr>\n",
              "      <th>2021-06-18</th>\n",
              "      <td>52.07</td>\n",
              "      <td>0.9825</td>\n",
              "      <td>0.038</td>\n",
              "      <td>0.869</td>\n",
              "      <td>0.093</td>\n",
              "      <td>52.81</td>\n",
              "      <td>52.84</td>\n",
              "      <td>51.88</td>\n",
              "      <td>35758260</td>\n",
              "      <td>47.951397</td>\n",
              "    </tr>\n",
              "  </tbody>\n",
              "</table>\n",
              "</div>"
            ],
            "text/plain": [
              "            Close  compound  negative  ...    Low    Volume  Predictions\n",
              "Date                                   ...                              \n",
              "2019-11-22  44.85    0.9965     0.057  ...  44.69  18725690    47.810909\n",
              "2019-11-27  45.24    0.9895     0.073  ...  44.93  14895010    47.428661\n",
              "2019-11-27  45.24    0.9895     0.073  ...  44.93  14895010    47.129158\n",
              "2019-12-12  45.67    0.9956     0.058  ...  44.41  27073510    46.908504\n",
              "2019-12-18  46.64    0.9955     0.029  ...  46.25  21928070    46.744484\n",
              "2020-01-28  47.77    0.9986     0.038  ...  47.50  14035050    46.675652\n",
              "2020-02-19  46.29    0.9896     0.061  ...  45.90  27626380    46.712238\n",
              "2020-03-06  39.68    0.9806     0.081  ...  37.80  48605590    46.797649\n",
              "2020-03-09  37.96    0.9884     0.088  ...  36.29  61535330    46.612343\n",
              "2020-03-23  34.60    0.9949     0.051  ...  33.74  39823400    46.164810\n",
              "2020-03-27  38.82    0.9757     0.040  ...  38.41  31278580    45.404545\n",
              "2020-03-30  40.32    0.9925     0.050  ...  38.96  27120330    44.627590\n",
              "2020-04-09  41.20    0.9712     0.041  ...  40.85  27650200    43.940567\n",
              "2020-04-17  42.48    0.8659     0.042  ...  41.74  30701460    43.390373\n",
              "2020-05-14  43.85    0.9969     0.026  ...  43.26  50417740    43.035038\n",
              "2020-05-15  44.27    0.9907     0.053  ...  42.85  30573030    42.875648\n",
              "2020-05-19  44.61    0.9987     0.018  ...  44.41  24345420    42.879845\n",
              "2020-05-28  45.60    0.9928     0.013  ...  45.37  20027750    43.011944\n",
              "2020-06-15  45.35    0.9979     0.039  ...  43.93  21300100    43.267612\n",
              "2020-07-01  46.06    0.9587     0.063  ...  46.00  17129460    43.585445\n",
              "2020-07-16  45.78    0.9929     0.060  ...  45.20  17709450    43.958401\n",
              "2020-07-22  46.90    0.9981     0.018  ...  46.53  27218260    44.340504\n",
              "2020-08-10  47.73    0.4980     0.100  ...  47.16  14999190    44.753262\n",
              "2020-09-04  40.82    0.9698     0.062  ...  40.44  34867420    45.205112\n",
              "2020-09-28  39.13    0.9908     0.067  ...  38.79  24275700    45.382423\n",
              "2020-09-30  39.39    0.9909     0.053  ...  39.02  27113200    45.276009\n",
              "2020-10-12  40.36    0.9987     0.037  ...  39.63  22757250    44.979019\n",
              "2020-11-04  36.57    0.9983     0.030  ...  36.50  30121920    44.614437\n",
              "2020-11-13  41.40    0.9977     0.035  ...  40.56  49120100    44.095547\n",
              "2020-12-21  44.88    0.7643     0.058  ...  44.07  19865300    43.664215\n",
              "2021-02-18  46.34    0.9935     0.029  ...  45.69  16867520    43.474728\n",
              "2021-03-22  50.30    0.9768     0.055  ...  48.94  28813880    43.496750\n",
              "2021-04-07  51.77    0.9806     0.027  ...  51.58  15783650    43.845261\n",
              "2021-04-23  51.91    0.9979     0.050  ...  51.18  14017740    44.476112\n",
              "2021-05-04  50.71    0.9980     0.058  ...  50.30  18164790    45.280460\n",
              "2021-05-07  53.43    0.9653     0.080  ...  52.22  24146010    46.116352\n",
              "2021-05-21  52.43    0.9798     0.079  ...  52.24  24468370    47.043194\n",
              "2021-06-18  52.07    0.9825     0.038  ...  51.88  35758260    47.951397\n",
              "\n",
              "[38 rows x 10 columns]"
            ]
          },
          "metadata": {
            "tags": []
          },
          "execution_count": 57
        }
      ]
    },
    {
      "cell_type": "code",
      "metadata": {
        "colab": {
          "base_uri": "https://localhost:8080/"
        },
        "id": "5ZMDwDW3BAsh",
        "outputId": "1388121c-6580-43bd-8587-6f02c5eff948"
      },
      "source": [
        "import datetime\n",
        "last_day = df3.index[-1]\n",
        "next_day = last_day + datetime.timedelta(days = 1)\n",
        "print(next_day)"
      ],
      "execution_count": null,
      "outputs": [
        {
          "output_type": "stream",
          "text": [
            "2021-06-19 00:00:00\n"
          ],
          "name": "stdout"
        }
      ]
    },
    {
      "cell_type": "code",
      "metadata": {
        "colab": {
          "base_uri": "https://localhost:8080/"
        },
        "id": "pZNp9vBSDcY4",
        "outputId": "489bf5e3-634c-417e-fa16-659451106929"
      },
      "source": [
        "new_df = df3.filter(['Close'])\n",
        "last_20_days = new_df[-20: ].values\n",
        "last_20_days_scaled = scaler.transform(last_20_days)\n",
        "\n",
        "X_test = []\n",
        "X_test.append(last_20_days_scaled)\n",
        "\n",
        "X_test = np.array(X_test)\n",
        "\n",
        "X_test = np.reshape(X_test, (X_test.shape[0], X_test.shape[1], 1))\n",
        "\n",
        "pred_price = model.predict(X_test)\n",
        "\n",
        "pred_price = scaler.inverse_transform(pred_price)\n",
        "print('Predicted Close Price for {} '.format(next_day) + ' = ', pred_price)"
      ],
      "execution_count": null,
      "outputs": [
        {
          "output_type": "stream",
          "text": [
            "Predicted Close Price for 2021-06-19 00:00:00  =  [[48.784065]]\n"
          ],
          "name": "stdout"
        }
      ]
    },
    {
      "cell_type": "code",
      "metadata": {
        "id": "TxywI2LeD6cC"
      },
      "source": [
        "previous = pred_price\n",
        "previous_pred_price = new_df.at[str(last_day), 'Close']"
      ],
      "execution_count": null,
      "outputs": []
    },
    {
      "cell_type": "code",
      "metadata": {
        "colab": {
          "base_uri": "https://localhost:8080/"
        },
        "id": "cK2t4YFED_gE",
        "outputId": "7000081e-f02d-4f19-e01b-1893082725d7"
      },
      "source": [
        "diff=(float)(pred_price - previous_pred_price)\n",
        "if(diff < 0):\n",
        "  print(\"percentage decrease = \",round(((- (diff)/previous_pred_price)*100),4))\n",
        "else:\n",
        "  print(\"percentage increase = \",round((( (diff)/previous_pred_price)*100),4))"
      ],
      "execution_count": null,
      "outputs": [
        {
          "output_type": "stream",
          "text": [
            "percentage decrease =  6.3106\n"
          ],
          "name": "stdout"
        }
      ]
    }
  ]
}